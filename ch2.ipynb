{
 "cells": [
  {
   "cell_type": "code",
   "execution_count": 1,
   "metadata": {},
   "outputs": [
    {
     "name": "stdout",
     "output_type": "stream",
     "text": [
      "Python version: {} 3.7.0 (default, Dec  1 2018, 14:24:57) \n",
      "[Clang 10.0.0 (clang-1000.11.45.5)]\n",
      "pandas version: 0.23.4\n",
      "matplotlib version: 3.0.2\n",
      "NumPy version: 1.15.4\n",
      "SciPy version: 1.1.0\n",
      "IPython version: 7.2.0\n",
      "scikit-learn version: 0.20.1\n"
     ]
    }
   ],
   "source": [
    "import sys\n",
    "print(\"Python version: {}\", sys.version)\n",
    "\n",
    "import pandas as pd\n",
    "print(\"pandas version:\", pd.__version__)\n",
    "\n",
    "import matplotlib\n",
    "import matplotlib.pyplot as plt\n",
    "print(\"matplotlib version:\", matplotlib.__version__)\n",
    "\n",
    "import numpy as np\n",
    "print(\"NumPy version:\", np.__version__)\n",
    "\n",
    "import scipy as sp\n",
    "print(\"SciPy version:\", sp.__version__)\n",
    "\n",
    "import IPython\n",
    "print(\"IPython version:\", IPython.__version__)\n",
    "\n",
    "import sklearn\n",
    "print(\"scikit-learn version:\", sklearn.__version__)\n",
    "\n",
    "import mglearn"
   ]
  },
  {
   "cell_type": "code",
   "execution_count": 2,
   "metadata": {},
   "outputs": [
    {
     "name": "stderr",
     "output_type": "stream",
     "text": [
      "/Users/kino/code-notes/ml-python/ml/lib/python3.7/site-packages/sklearn/utils/deprecation.py:77: DeprecationWarning: Function make_blobs is deprecated; Please import make_blobs directly from scikit-learn\n",
      "  warnings.warn(msg, category=DeprecationWarning)\n"
     ]
    },
    {
     "name": "stdout",
     "output_type": "stream",
     "text": [
      "the first column of data [ 9.96346605 11.0329545  11.54155807  8.69289001  8.1062269   8.30988863\n",
      " 11.93027136  9.67284681  8.34810316  8.67494727  9.17748385 10.24028948\n",
      "  8.68937095  8.92229526  9.49123469  9.25694192  7.99815287  8.18378052\n",
      "  8.7337095   9.32298256 10.06393839  9.50048972  8.34468785  9.50169345\n",
      "  9.15072323 11.563957  ]\n",
      "X.shape: (26, 2)\n"
     ]
    },
    {
     "data": {
      "image/png": "[encoded data removed]",
      "text/plain": [
       "<Figure size 432x288 with 1 Axes>"
      ]
     },
     "metadata": {
      "needs_background": "light"
     },
     "output_type": "display_data"
    }
   ],
   "source": [
    "# generate dataset\n",
    "X, y = mglearn.datasets.make_forge()\n",
    "# plot dataset\n",
    "# What is this X[:, 0]?\n",
    "mglearn.discrete_scatter(X[:, 0], X[:, 1], y)\n",
    "print('the first column of data', X[:, 0])\n",
    "plt.legend([\"Class 0\", \"Class 1\"], loc=4)\n",
    "plt.xlabel(\"First feature\")\n",
    "plt.ylabel(\"Second feature\")\n",
    "print(\"X.shape:\", X.shape)"
   ]
  },
  {
   "cell_type": "code",
   "execution_count": 3,
   "metadata": {},
   "outputs": [
    {
     "data": {
      "text/plain": [
       "Text(0, 0.5, 'Taget')"
      ]
     },
     "execution_count": 3,
     "metadata": {},
     "output_type": "execute_result"
    },
    {
     "data": {
      "image/png": "[encoded data removed]",
      "text/plain": [
       "<Figure size 432x288 with 1 Axes>"
      ]
     },
     "metadata": {
      "needs_background": "light"
     },
     "output_type": "display_data"
    }
   ],
   "source": [
    "X, y = mglearn.datasets.make_wave(n_samples=40)\n",
    "plt.plot(X, y, 'o')\n",
    "plt.ylim(-3, 3)\n",
    "plt.xlabel(\"Feature\")\n",
    "plt.ylabel(\"Taget\")"
   ]
  },
  {
   "cell_type": "code",
   "execution_count": 4,
   "metadata": {
    "scrolled": false
   },
   "outputs": [
    {
     "name": "stdout",
     "output_type": "stream",
     "text": [
      "key: data value: [[1.799e+01 1.038e+01 1.228e+02 ... 2.654e-01 4.601e-01 1.189e-01]\n",
      " [2.057e+01 1.777e+01 1.329e+02 ... 1.860e-01 2.750e-01 8.902e-02]\n",
      " [1.969e+01 2.125e+01 1.300e+02 ... 2.430e-01 3.613e-01 8.758e-02]\n",
      " ...\n",
      " [1.660e+01 2.808e+01 1.083e+02 ... 1.418e-01 2.218e-01 7.820e-02]\n",
      " [2.060e+01 2.933e+01 1.401e+02 ... 2.650e-01 4.087e-01 1.240e-01]\n",
      " [7.760e+00 2.454e+01 4.792e+01 ... 0.000e+00 2.871e-01 7.039e-02]]\n",
      "key: target value: [0 0 0 0 0 0 0 0 0 0 0 0 0 0 0 0 0 0 0 1 1 1 0 0 0 0 0 0 0 0 0 0 0 0 0 0 0\n",
      " 1 0 0 0 0 0 0 0 0 1 0 1 1 1 1 1 0 0 1 0 0 1 1 1 1 0 1 0 0 1 1 1 1 0 1 0 0\n",
      " 1 0 1 0 0 1 1 1 0 0 1 0 0 0 1 1 1 0 1 1 0 0 1 1 1 0 0 1 1 1 1 0 1 1 0 1 1\n",
      " 1 1 1 1 1 1 0 0 0 1 0 0 1 1 1 0 0 1 0 1 0 0 1 0 0 1 1 0 1 1 0 1 1 1 1 0 1\n",
      " 1 1 1 1 1 1 1 1 0 1 1 1 1 0 0 1 0 1 1 0 0 1 1 0 0 1 1 1 1 0 1 1 0 0 0 1 0\n",
      " 1 0 1 1 1 0 1 1 0 0 1 0 0 0 0 1 0 0 0 1 0 1 0 1 1 0 1 0 0 0 0 1 1 0 0 1 1\n",
      " 1 0 1 1 1 1 1 0 0 1 1 0 1 1 0 0 1 0 1 1 1 1 0 1 1 1 1 1 0 1 0 0 0 0 0 0 0\n",
      " 0 0 0 0 0 0 0 1 1 1 1 1 1 0 1 0 1 1 0 1 1 0 1 0 0 1 1 1 1 1 1 1 1 1 1 1 1\n",
      " 1 0 1 1 0 1 0 1 1 1 1 1 1 1 1 1 1 1 1 1 1 0 1 1 1 0 1 0 1 1 1 1 0 0 0 1 1\n",
      " 1 1 0 1 0 1 0 1 1 1 0 1 1 1 1 1 1 1 0 0 0 1 1 1 1 1 1 1 1 1 1 1 0 0 1 0 0\n",
      " 0 1 0 0 1 1 1 1 1 0 1 1 1 1 1 0 1 1 1 0 1 1 0 0 1 1 1 1 1 1 0 1 1 1 1 1 1\n",
      " 1 0 1 1 1 1 1 0 1 1 0 1 1 1 1 1 1 1 1 1 1 1 1 0 1 0 0 1 0 1 1 1 1 1 0 1 1\n",
      " 0 1 0 1 1 0 1 0 1 1 1 1 1 1 1 1 0 0 1 1 1 1 1 1 0 1 1 1 1 1 1 1 1 1 1 0 1\n",
      " 1 1 1 1 1 1 0 1 0 1 1 0 1 1 1 1 1 0 0 1 0 1 0 1 1 1 1 1 0 1 1 0 1 0 1 0 0\n",
      " 1 1 1 0 1 1 1 1 1 1 1 1 1 1 1 0 1 0 0 1 1 1 1 1 1 1 1 1 1 1 1 1 1 1 1 1 1\n",
      " 1 1 1 1 1 1 1 0 0 0 0 0 0 1]\n",
      "key: target_names value: ['malignant' 'benign']\n",
      "key: DESCR value: .. _breast_cancer_dataset:\n",
      "\n",
      "Breast cancer wisconsin (diagnostic) dataset\n",
      "--------------------------------------------\n",
      "\n",
      "**Data Set Characteristics:**\n",
      "\n",
      "    :Number of Instances: 569\n",
      "\n",
      "    :Number of Attributes: 30 numeric, predictive attributes and the class\n",
      "\n",
      "    :Attribute Information:\n",
      "        - radius (mean of distances from center to points on the perimeter)\n",
      "        - texture (standard deviation of gray-scale values)\n",
      "        - perimeter\n",
      "        - area\n",
      "        - smoothness (local variation in radius lengths)\n",
      "        - compactness (perimeter^2 / area - 1.0)\n",
      "        - concavity (severity of concave portions of the contour)\n",
      "        - concave points (number of concave portions of the contour)\n",
      "        - symmetry \n",
      "        - fractal dimension (\"coastline approximation\" - 1)\n",
      "\n",
      "        The mean, standard error, and \"worst\" or largest (mean of the three\n",
      "        largest values) of these features were computed for each image,\n",
      "        resulting in 30 features.  For instance, field 3 is Mean Radius, field\n",
      "        13 is Radius SE, field 23 is Worst Radius.\n",
      "\n",
      "        - class:\n",
      "                - WDBC-Malignant\n",
      "                - WDBC-Benign\n",
      "\n",
      "    :Summary Statistics:\n",
      "\n",
      "    ===================================== ====== ======\n",
      "                                           Min    Max\n",
      "    ===================================== ====== ======\n",
      "    radius (mean):                        6.981  28.11\n",
      "    texture (mean):                       9.71   39.28\n",
      "    perimeter (mean):                     43.79  188.5\n",
      "    area (mean):                          143.5  2501.0\n",
      "    smoothness (mean):                    0.053  0.163\n",
      "    compactness (mean):                   0.019  0.345\n",
      "    concavity (mean):                     0.0    0.427\n",
      "    concave points (mean):                0.0    0.201\n",
      "    symmetry (mean):                      0.106  0.304\n",
      "    fractal dimension (mean):             0.05   0.097\n",
      "    radius (standard error):              0.112  2.873\n",
      "    texture (standard error):             0.36   4.885\n",
      "    perimeter (standard error):           0.757  21.98\n",
      "    area (standard error):                6.802  542.2\n",
      "    smoothness (standard error):          0.002  0.031\n",
      "    compactness (standard error):         0.002  0.135\n",
      "    concavity (standard error):           0.0    0.396\n",
      "    concave points (standard error):      0.0    0.053\n",
      "    symmetry (standard error):            0.008  0.079\n",
      "    fractal dimension (standard error):   0.001  0.03\n",
      "    radius (worst):                       7.93   36.04\n",
      "    texture (worst):                      12.02  49.54\n",
      "    perimeter (worst):                    50.41  251.2\n",
      "    area (worst):                         185.2  4254.0\n",
      "    smoothness (worst):                   0.071  0.223\n",
      "    compactness (worst):                  0.027  1.058\n",
      "    concavity (worst):                    0.0    1.252\n",
      "    concave points (worst):               0.0    0.291\n",
      "    symmetry (worst):                     0.156  0.664\n",
      "    fractal dimension (worst):            0.055  0.208\n",
      "    ===================================== ====== ======\n",
      "\n",
      "    :Missing Attribute Values: None\n",
      "\n",
      "    :Class Distribution: 212 - Malignant, 357 - Benign\n",
      "\n",
      "    :Creator:  Dr. William H. Wolberg, W. Nick Street, Olvi L. Mangasarian\n",
      "\n",
      "    :Donor: Nick Street\n",
      "\n",
      "    :Date: November, 1995\n",
      "\n",
      "This is a copy of UCI ML Breast Cancer Wisconsin (Diagnostic) datasets.\n",
      "https://goo.gl/U2Uwz2\n",
      "\n",
      "Features are computed from a digitized image of a fine needle\n",
      "aspirate (FNA) of a breast mass.  They describe\n",
      "characteristics of the cell nuclei present in the image.\n",
      "\n",
      "Separating plane described above was obtained using\n",
      "Multisurface Method-Tree (MSM-T) [K. P. Bennett, \"Decision Tree\n",
      "Construction Via Linear Programming.\" Proceedings of the 4th\n",
      "Midwest Artificial Intelligence and Cognitive Science Society,\n",
      "pp. 97-101, 1992], a classification method which uses linear\n",
      "programming to construct a decision tree.  Relevant features\n",
      "were selected using an exhaustive search in the space of 1-4\n",
      "features and 1-3 separating planes.\n",
      "\n",
      "The actual linear program used to obtain the separating plane\n",
      "in the 3-dimensional space is that described in:\n",
      "[K. P. Bennett and O. L. Mangasarian: \"Robust Linear\n",
      "Programming Discrimination of Two Linearly Inseparable Sets\",\n",
      "Optimization Methods and Software 1, 1992, 23-34].\n",
      "\n",
      "This database is also available through the UW CS ftp server:\n",
      "\n",
      "ftp ftp.cs.wisc.edu\n",
      "cd math-prog/cpo-dataset/machine-learn/WDBC/\n",
      "\n",
      ".. topic:: References\n",
      "\n",
      "   - W.N. Street, W.H. Wolberg and O.L. Mangasarian. Nuclear feature extraction \n",
      "     for breast tumor diagnosis. IS&T/SPIE 1993 International Symposium on \n",
      "     Electronic Imaging: Science and Technology, volume 1905, pages 861-870,\n",
      "     San Jose, CA, 1993.\n",
      "   - O.L. Mangasarian, W.N. Street and W.H. Wolberg. Breast cancer diagnosis and \n",
      "     prognosis via linear programming. Operations Research, 43(4), pages 570-577, \n",
      "     July-August 1995.\n",
      "   - W.H. Wolberg, W.N. Street, and O.L. Mangasarian. Machine learning techniques\n",
      "     to diagnose breast cancer from fine-needle aspirates. Cancer Letters 77 (1994) \n",
      "     163-171.\n",
      "key: feature_names value: ['mean radius' 'mean texture' 'mean perimeter' 'mean area'\n",
      " 'mean smoothness' 'mean compactness' 'mean concavity'\n",
      " 'mean concave points' 'mean symmetry' 'mean fractal dimension'\n",
      " 'radius error' 'texture error' 'perimeter error' 'area error'\n",
      " 'smoothness error' 'compactness error' 'concavity error'\n",
      " 'concave points error' 'symmetry error' 'fractal dimension error'\n",
      " 'worst radius' 'worst texture' 'worst perimeter' 'worst area'\n",
      " 'worst smoothness' 'worst compactness' 'worst concavity'\n",
      " 'worst concave points' 'worst symmetry' 'worst fractal dimension']\n",
      "key: filename value: /Users/kino/code-notes/ml-python/ml/lib/python3.7/site-packages/sklearn/datasets/data/breast_cancer.csv\n",
      "data shape (569, 30)\n"
     ]
    }
   ],
   "source": [
    "from sklearn.datasets import load_breast_cancer\n",
    "cancer = load_breast_cancer()\n",
    "for k, v in cancer.items():\n",
    "    print('key:', k, 'value:', v)\n",
    "print('data shape', cancer.data.shape)"
   ]
  },
  {
   "cell_type": "code",
   "execution_count": 5,
   "metadata": {},
   "outputs": [
    {
     "name": "stdout",
     "output_type": "stream",
     "text": [
      "target value [212 357]\n",
      "target names ['malignant' 'benign']\n",
      "malignant 212\n",
      "benign 357\n"
     ]
    }
   ],
   "source": [
    "print('target value', np.bincount(cancer.target))\n",
    "print('target names', cancer.target_names)\n",
    "for n, v in zip(cancer.target_names, np.bincount(cancer.target)):\n",
    "    print(n, v)"
   ]
  },
  {
   "cell_type": "code",
   "execution_count": 6,
   "metadata": {},
   "outputs": [
    {
     "name": "stdout",
     "output_type": "stream",
     "text": [
      "dataset keys:  dict_keys(['data', 'target', 'feature_names', 'DESCR', 'filename'])\n",
      "boston data shape (506, 13)\n"
     ]
    }
   ],
   "source": [
    "from sklearn.datasets import load_boston\n",
    "boston = load_boston()\n",
    "print('dataset keys: ', boston.keys())\n",
    "print('boston data shape', boston.data.shape)"
   ]
  },
  {
   "cell_type": "code",
   "execution_count": 7,
   "metadata": {
    "scrolled": false
   },
   "outputs": [
    {
     "name": "stdout",
     "output_type": "stream",
     "text": [
      "extended feature shape (506, 104)\n",
      "first 1:  [[0.         0.18       0.06781525 0.         0.31481481 0.57750527\n",
      "  0.64160659 0.26920314 0.         0.20801527 0.28723404 1.\n",
      "  0.08967991 0.         0.         0.         0.         0.\n",
      "  0.         0.         0.         0.         0.         0.\n",
      "  0.         0.         0.0324     0.01220674 0.         0.05666667\n",
      "  0.10395095 0.11548919 0.04845657 0.         0.03744275 0.05170213\n",
      "  0.18       0.01614238 0.00459891 0.         0.02134925 0.03916366\n",
      "  0.04351071 0.01825608 0.         0.01410661 0.01947885 0.06781525\n",
      "  0.00608167 0.         0.         0.         0.         0.\n",
      "  0.         0.         0.         0.         0.         0.09910837\n",
      "  0.18180721 0.20198726 0.08474914 0.         0.06548629 0.09042553\n",
      "  0.31481481 0.02823256 0.33351234 0.37053119 0.15546623 0.\n",
      "  0.12012991 0.16587917 0.57750527 0.05179062 0.41165902 0.17272251\n",
      "  0.         0.13346397 0.18429125 0.64160659 0.05753922 0.07247033\n",
      "  0.         0.05599836 0.07732431 0.26920314 0.02414211 0.\n",
      "  0.         0.         0.         0.         0.04327035 0.05974907\n",
      "  0.20801527 0.01865479 0.0825034  0.28723404 0.02575912 1.\n",
      "  0.08967991 0.00804249]]\n"
     ]
    }
   ],
   "source": [
    "X, y = mglearn.datasets.load_extended_boston()\n",
    "print('extended feature shape', X.shape)\n",
    "print('first 1: ', X[0:1])"
   ]
  },
  {
   "cell_type": "code",
   "execution_count": 8,
   "metadata": {},
   "outputs": [
    {
     "name": "stderr",
     "output_type": "stream",
     "text": [
      "/Users/kino/code-notes/ml-python/ml/lib/python3.7/site-packages/sklearn/utils/deprecation.py:77: DeprecationWarning: Function make_blobs is deprecated; Please import make_blobs directly from scikit-learn\n",
      "  warnings.warn(msg, category=DeprecationWarning)\n"
     ]
    },
    {
     "data": {
      "image/png": "[encoded data removed]",
      "text/plain": [
       "<Figure size 432x288 with 1 Axes>"
      ]
     },
     "metadata": {
      "needs_background": "light"
     },
     "output_type": "display_data"
    }
   ],
   "source": [
    "mglearn.plots.plot_knn_classification(n_neighbors=3)"
   ]
  },
  {
   "cell_type": "code",
   "execution_count": 9,
   "metadata": {},
   "outputs": [],
   "source": [
    "\n",
    "def plot_accuracy(X_train, X_test, y_train, y_test, model_func, hyper_params=range(1,11)):\n",
    "    training_accuracy=[]\n",
    "    test_accuracy=[]\n",
    "\n",
    "    for param in hyper_params:\n",
    "        model=model_func(param)\n",
    "        model.fit(X_train, y_train)\n",
    "        trainig_score = model.score(X_train, y_train)\n",
    "        test_score = model.score(X_test, y_test)\n",
    "        training_accuracy.append(trainig_score)\n",
    "        test_accuracy.append(test_score)\n",
    "\n",
    "    plt.plot(hyper_params, training_accuracy, label=\"training accuracy\")\n",
    "    plt.plot(hyper_params, test_accuracy, label=\"test accuracy\")\n",
    "    plt.ylabel(\"Accuracy\")\n",
    "    plt.xlabel(\"hyper_param\")\n",
    "    plt.legend()\n",
    "    "
   ]
  },
  {
   "cell_type": "code",
   "execution_count": 10,
   "metadata": {},
   "outputs": [
    {
     "data": {
      "text/html": [
       "<script type=\"text/javascript\">window.PlotlyConfig = {MathJaxConfig: 'local'};</script><script type=\"text/javascript\">if (window.MathJax) {MathJax.Hub.Config({SVG: {font: \"STIX-Web\"}});}</script><script>requirejs.config({paths: { 'plotly': ['https://cdn.plot.ly/plotly-latest.min']},});if(!window._Plotly) {require(['plotly'],function(plotly) {window._Plotly=plotly;});}</script>"
      ],
      "text/vnd.plotly.v1+html": [
       "<script type=\"text/javascript\">window.PlotlyConfig = {MathJaxConfig: 'local'};</script><script type=\"text/javascript\">if (window.MathJax) {MathJax.Hub.Config({SVG: {font: \"STIX-Web\"}});}</script><script>requirejs.config({paths: { 'plotly': ['https://cdn.plot.ly/plotly-latest.min']},});if(!window._Plotly) {require(['plotly'],function(plotly) {window._Plotly=plotly;});}</script>"
      ]
     },
     "metadata": {},
     "output_type": "display_data"
    }
   ],
   "source": [
    "import plotly.graph_objs as go\n",
    "from plotly.offline import download_plotlyjs, init_notebook_mode, plot, iplot\n",
    "\n",
    "init_notebook_mode(connected=True)\n",
    "\n",
    "def plot_accuracy_interactive(X_train, X_test, y_train, y_test, model_func, hyper_params=np.array(range(1,11))):\n",
    "    training_accuracy=[]\n",
    "    test_accuracy=[]\n",
    "\n",
    "    for param in hyper_params:\n",
    "        model=model_func(param)\n",
    "        model.fit(X_train, y_train)\n",
    "        trainig_score = model.score(X_train, y_train)\n",
    "        test_score = model.score(X_test, y_test)\n",
    "        training_accuracy.append(trainig_score)\n",
    "        test_accuracy.append(test_score)\n",
    "    \n",
    "    # Create traces\n",
    "    trace0 = go.Scatter(\n",
    "        x = hyper_params,\n",
    "        y = training_accuracy,\n",
    "        mode = 'lines+markers',\n",
    "        name = 'training accuracy'\n",
    "    )\n",
    "    trace1 = go.Scatter(\n",
    "        x = hyper_params,\n",
    "        y = test_accuracy,\n",
    "        mode = 'lines+markers',\n",
    "        name = 'test accuracy'\n",
    "    )\n",
    "    \n",
    "    data1 = [trace0, trace1]\n",
    "    layout = dict(title = 'Comparasion of different hyper params performance',\n",
    "              xaxis = dict(title = 'Hyper Params values'),\n",
    "              yaxis = dict(title = 'Accuracy'),\n",
    "              )\n",
    "\n",
    "    fig = dict(data=data1, layout=layout)\n",
    "    iplot(fig)\n",
    "    \n",
    "#     params = np.array(hyper_params)\n",
    "#     train_acc = np.array(training_accuracy)\n",
    "#     test_acc = np.array(test_accuracy)\n",
    "#     data = pd.DataFrame(data=np.transpose(np.array([params, train_acc, test_acc])), columns=['hyper_param', 'trainig_accuracy', 'test_accuracy'])\n",
    "#     print(data)\n",
    "    "
   ]
  },
  {
   "cell_type": "code",
   "execution_count": 11,
   "metadata": {},
   "outputs": [
    {
     "name": "stderr",
     "output_type": "stream",
     "text": [
      "/Users/kino/code-notes/ml-python/ml/lib/python3.7/site-packages/sklearn/utils/deprecation.py:77: DeprecationWarning:\n",
      "\n",
      "Function make_blobs is deprecated; Please import make_blobs directly from scikit-learn\n",
      "\n"
     ]
    },
    {
     "name": "stdout",
     "output_type": "stream",
     "text": [
      "[1 0 1 0 0 1 1 0 1 1 1 1 0 0 1 1 1 0 0 1 0 0 0 0 1 0]\n"
     ]
    },
    {
     "data": {
      "application/vnd.plotly.v1+json": {
       "config": {
        "linkText": "Export to plot.ly",
        "plotlyServerURL": "https://plot.ly",
        "showLink": true
       },
       "data": [
        {
         "mode": "lines+markers",
         "name": "training accuracy",
         "type": "scatter",
         "uid": "85bf4af5-ab2f-4578-9f6a-cc141d2e1446",
         "x": [
          1,
          2,
          3,
          4,
          5,
          6,
          7,
          8,
          9,
          10
         ],
         "y": [
          1,
          0.8947368421052632,
          0.8947368421052632,
          0.8947368421052632,
          0.8947368421052632,
          0.8947368421052632,
          0.8947368421052632,
          0.8947368421052632,
          0.8947368421052632,
          0.8947368421052632
         ]
        },
        {
         "mode": "lines+markers",
         "name": "test accuracy",
         "type": "scatter",
         "uid": "e3f9dbc3-e9f9-4ef6-b52c-5266f902a92a",
         "x": [
          1,
          2,
          3,
          4,
          5,
          6,
          7,
          8,
          9,
          10
         ],
         "y": [
          1,
          0.8571428571428571,
          1,
          1,
          1,
          1,
          1,
          1,
          1,
          1
         ]
        }
       ],
       "layout": {
        "title": "Comparasion of different hyper params performance",
        "xaxis": {
         "title": "Hyper Params values"
        },
        "yaxis": {
         "title": "Accuracy"
        }
       }
      },
      "text/html": [
       "<div id=\"28a37fee-be94-4ecd-8707-63973ff0627b\" style=\"height: 525px; width: 100%;\" class=\"plotly-graph-div\"></div><script type=\"text/javascript\">require([\"plotly\"], function(Plotly) { window.PLOTLYENV=window.PLOTLYENV || {};window.PLOTLYENV.BASE_URL=\"https://plot.ly\";Plotly.newPlot(\"28a37fee-be94-4ecd-8707-63973ff0627b\", [{\"mode\": \"lines+markers\", \"name\": \"training accuracy\", \"x\": [1, 2, 3, 4, 5, 6, 7, 8, 9, 10], \"y\": [1.0, 0.8947368421052632, 0.8947368421052632, 0.8947368421052632, 0.8947368421052632, 0.8947368421052632, 0.8947368421052632, 0.8947368421052632, 0.8947368421052632, 0.8947368421052632], \"type\": \"scatter\", \"uid\": \"c78624bb-2938-4156-907c-d4545663d68c\"}, {\"mode\": \"lines+markers\", \"name\": \"test accuracy\", \"x\": [1, 2, 3, 4, 5, 6, 7, 8, 9, 10], \"y\": [1.0, 0.8571428571428571, 1.0, 1.0, 1.0, 1.0, 1.0, 1.0, 1.0, 1.0], \"type\": \"scatter\", \"uid\": \"0abab975-899f-4266-b094-1394b041dee9\"}], {\"title\": \"Comparasion of different hyper params performance\", \"xaxis\": {\"title\": \"Hyper Params values\"}, \"yaxis\": {\"title\": \"Accuracy\"}}, {\"showLink\": true, \"linkText\": \"Export to plot.ly\", \"plotlyServerURL\": \"https://plot.ly\"})});</script><script type=\"text/javascript\">window.addEventListener(\"resize\", function(){window._Plotly.Plots.resize(document.getElementById(\"28a37fee-be94-4ecd-8707-63973ff0627b\"));});</script>"
      ],
      "text/vnd.plotly.v1+html": [
       "<div id=\"28a37fee-be94-4ecd-8707-63973ff0627b\" style=\"height: 525px; width: 100%;\" class=\"plotly-graph-div\"></div><script type=\"text/javascript\">require([\"plotly\"], function(Plotly) { window.PLOTLYENV=window.PLOTLYENV || {};window.PLOTLYENV.BASE_URL=\"https://plot.ly\";Plotly.newPlot(\"28a37fee-be94-4ecd-8707-63973ff0627b\", [{\"mode\": \"lines+markers\", \"name\": \"training accuracy\", \"x\": [1, 2, 3, 4, 5, 6, 7, 8, 9, 10], \"y\": [1.0, 0.8947368421052632, 0.8947368421052632, 0.8947368421052632, 0.8947368421052632, 0.8947368421052632, 0.8947368421052632, 0.8947368421052632, 0.8947368421052632, 0.8947368421052632], \"type\": \"scatter\", \"uid\": \"c78624bb-2938-4156-907c-d4545663d68c\"}, {\"mode\": \"lines+markers\", \"name\": \"test accuracy\", \"x\": [1, 2, 3, 4, 5, 6, 7, 8, 9, 10], \"y\": [1.0, 0.8571428571428571, 1.0, 1.0, 1.0, 1.0, 1.0, 1.0, 1.0, 1.0], \"type\": \"scatter\", \"uid\": \"0abab975-899f-4266-b094-1394b041dee9\"}], {\"title\": \"Comparasion of different hyper params performance\", \"xaxis\": {\"title\": \"Hyper Params values\"}, \"yaxis\": {\"title\": \"Accuracy\"}}, {\"showLink\": true, \"linkText\": \"Export to plot.ly\", \"plotlyServerURL\": \"https://plot.ly\"})});</script><script type=\"text/javascript\">window.addEventListener(\"resize\", function(){window._Plotly.Plots.resize(document.getElementById(\"28a37fee-be94-4ecd-8707-63973ff0627b\"));});</script>"
      ]
     },
     "metadata": {},
     "output_type": "display_data"
    }
   ],
   "source": [
    "from sklearn.model_selection import train_test_split\n",
    "X, y = mglearn.datasets.make_forge()\n",
    "print(y)\n",
    "\n",
    "X_train, X_test, y_train, y_test = train_test_split(X, y, stratify=y, random_state=8)\n",
    "\n",
    "from sklearn.neighbors import KNeighborsClassifier\n",
    "\n",
    "# plot_accuracy(X_train, X_test, y_train, y_test, lambda param: KNeighborsClassifier(n_neighbors=param))\n",
    "plot_accuracy_interactive(X_train, X_test, y_train, y_test, lambda param: KNeighborsClassifier(n_neighbors=param))\n",
    "\n"
   ]
  },
  {
   "cell_type": "code",
   "execution_count": 12,
   "metadata": {},
   "outputs": [
    {
     "data": {
      "application/vnd.plotly.v1+json": {
       "config": {
        "linkText": "Export to plot.ly",
        "plotlyServerURL": "https://plot.ly",
        "showLink": true
       },
       "data": [
        {
         "mode": "lines+markers",
         "name": "training accuracy",
         "type": "scatter",
         "uid": "06e86d95-062c-4699-a37d-caeab75a7c01",
         "x": [
          1,
          2,
          3,
          4,
          5,
          6,
          7,
          8,
          9,
          10
         ],
         "y": [
          1,
          0.9671361502347418,
          0.960093896713615,
          0.9483568075117371,
          0.9507042253521126,
          0.9530516431924883,
          0.9507042253521126,
          0.9553990610328639,
          0.9460093896713615,
          0.9436619718309859
         ]
        },
        {
         "mode": "lines+markers",
         "name": "test accuracy",
         "type": "scatter",
         "uid": "bedb4ea0-d2f3-42c1-9618-36c04663c75b",
         "x": [
          1,
          2,
          3,
          4,
          5,
          6,
          7,
          8,
          9,
          10
         ],
         "y": [
          0.9090909090909091,
          0.8951048951048951,
          0.916083916083916,
          0.8811188811188811,
          0.916083916083916,
          0.9020979020979021,
          0.916083916083916,
          0.916083916083916,
          0.9300699300699301,
          0.9300699300699301
         ]
        }
       ],
       "layout": {
        "title": "Comparasion of different hyper params performance",
        "xaxis": {
         "title": "Hyper Params values"
        },
        "yaxis": {
         "title": "Accuracy"
        }
       }
      },
      "text/html": [
       "<div id=\"9105f584-7937-4fc5-a486-3a55cfc00d04\" style=\"height: 525px; width: 100%;\" class=\"plotly-graph-div\"></div><script type=\"text/javascript\">require([\"plotly\"], function(Plotly) { window.PLOTLYENV=window.PLOTLYENV || {};window.PLOTLYENV.BASE_URL=\"https://plot.ly\";Plotly.newPlot(\"9105f584-7937-4fc5-a486-3a55cfc00d04\", [{\"mode\": \"lines+markers\", \"name\": \"training accuracy\", \"x\": [1, 2, 3, 4, 5, 6, 7, 8, 9, 10], \"y\": [1.0, 0.9671361502347418, 0.960093896713615, 0.9483568075117371, 0.9507042253521126, 0.9530516431924883, 0.9507042253521126, 0.9553990610328639, 0.9460093896713615, 0.9436619718309859], \"type\": \"scatter\", \"uid\": \"950895da-bcbb-4511-a746-23fb1c71b1e2\"}, {\"mode\": \"lines+markers\", \"name\": \"test accuracy\", \"x\": [1, 2, 3, 4, 5, 6, 7, 8, 9, 10], \"y\": [0.9090909090909091, 0.8951048951048951, 0.916083916083916, 0.8811188811188811, 0.916083916083916, 0.9020979020979021, 0.916083916083916, 0.916083916083916, 0.9300699300699301, 0.9300699300699301], \"type\": \"scatter\", \"uid\": \"3837a0f1-e4f7-4129-b438-22b63d630de9\"}], {\"title\": \"Comparasion of different hyper params performance\", \"xaxis\": {\"title\": \"Hyper Params values\"}, \"yaxis\": {\"title\": \"Accuracy\"}}, {\"showLink\": true, \"linkText\": \"Export to plot.ly\", \"plotlyServerURL\": \"https://plot.ly\"})});</script><script type=\"text/javascript\">window.addEventListener(\"resize\", function(){window._Plotly.Plots.resize(document.getElementById(\"9105f584-7937-4fc5-a486-3a55cfc00d04\"));});</script>"
      ],
      "text/vnd.plotly.v1+html": [
       "<div id=\"9105f584-7937-4fc5-a486-3a55cfc00d04\" style=\"height: 525px; width: 100%;\" class=\"plotly-graph-div\"></div><script type=\"text/javascript\">require([\"plotly\"], function(Plotly) { window.PLOTLYENV=window.PLOTLYENV || {};window.PLOTLYENV.BASE_URL=\"https://plot.ly\";Plotly.newPlot(\"9105f584-7937-4fc5-a486-3a55cfc00d04\", [{\"mode\": \"lines+markers\", \"name\": \"training accuracy\", \"x\": [1, 2, 3, 4, 5, 6, 7, 8, 9, 10], \"y\": [1.0, 0.9671361502347418, 0.960093896713615, 0.9483568075117371, 0.9507042253521126, 0.9530516431924883, 0.9507042253521126, 0.9553990610328639, 0.9460093896713615, 0.9436619718309859], \"type\": \"scatter\", \"uid\": \"950895da-bcbb-4511-a746-23fb1c71b1e2\"}, {\"mode\": \"lines+markers\", \"name\": \"test accuracy\", \"x\": [1, 2, 3, 4, 5, 6, 7, 8, 9, 10], \"y\": [0.9090909090909091, 0.8951048951048951, 0.916083916083916, 0.8811188811188811, 0.916083916083916, 0.9020979020979021, 0.916083916083916, 0.916083916083916, 0.9300699300699301, 0.9300699300699301], \"type\": \"scatter\", \"uid\": \"3837a0f1-e4f7-4129-b438-22b63d630de9\"}], {\"title\": \"Comparasion of different hyper params performance\", \"xaxis\": {\"title\": \"Hyper Params values\"}, \"yaxis\": {\"title\": \"Accuracy\"}}, {\"showLink\": true, \"linkText\": \"Export to plot.ly\", \"plotlyServerURL\": \"https://plot.ly\"})});</script><script type=\"text/javascript\">window.addEventListener(\"resize\", function(){window._Plotly.Plots.resize(document.getElementById(\"9105f584-7937-4fc5-a486-3a55cfc00d04\"));});</script>"
      ]
     },
     "metadata": {},
     "output_type": "display_data"
    }
   ],
   "source": [
    "from sklearn.datasets import load_breast_cancer\n",
    "cancer = load_breast_cancer()\n",
    "\n",
    "# I don't set a fixed number for random_state here, as I don't mind it changes on every run\n",
    "# original in tutor is random_state=66\n",
    "X_train, X_test, y_train, y_test = train_test_split(cancer.data, cancer.target, stratify=cancer.target)\n",
    "# plot_accuracy(X_train, X_test, y_train, y_test, lambda param: KNeighborsClassifier(n_neighbors=param))\n",
    "\n",
    "plot_accuracy_interactive(X_train, X_test, y_train, y_test, lambda param: KNeighborsClassifier(n_neighbors=param))\n"
   ]
  },
  {
   "cell_type": "code",
   "execution_count": 13,
   "metadata": {},
   "outputs": [
    {
     "data": {
      "application/vnd.plotly.v1+json": {
       "config": {
        "linkText": "Export to plot.ly",
        "plotlyServerURL": "https://plot.ly",
        "showLink": true
       },
       "data": [
        {
         "mode": "lines+markers",
         "name": "training accuracy",
         "type": "scatter",
         "uid": "9d3509d4-c8e4-4f7b-bd77-8c1d64bfc1b4",
         "x": [
          1,
          2,
          3,
          4,
          5,
          6,
          7,
          8,
          9,
          10
         ],
         "y": [
          1,
          0.8489295178013407,
          0.8194343929538755,
          0.8168007715187524,
          0.7933627228318063,
          0.7871902291986861,
          0.787192898001129,
          0.7541918525127793,
          0.7283986168755594,
          0.7210974727340191
         ]
        },
        {
         "mode": "lines+markers",
         "name": "test accuracy",
         "type": "scatter",
         "uid": "a7cce427-e6a1-43e5-a684-6c035141b736",
         "x": [
          1,
          2,
          3,
          4,
          5,
          6,
          7,
          8,
          9,
          10
         ],
         "y": [
          0.3519867415115093,
          0.6557491875542131,
          0.8344172446249604,
          0.7704189018456431,
          0.7071381144011731,
          0.6963552119009186,
          0.6752134587675717,
          0.6788241385739405,
          0.6541236379533191,
          0.6381920637966467
         ]
        }
       ],
       "layout": {
        "title": "Comparasion of different hyper params performance",
        "xaxis": {
         "title": "Hyper Params values"
        },
        "yaxis": {
         "title": "Accuracy"
        }
       }
      },
      "text/html": [
       "<div id=\"83160289-1999-4b43-b874-6345d394712b\" style=\"height: 525px; width: 100%;\" class=\"plotly-graph-div\"></div><script type=\"text/javascript\">require([\"plotly\"], function(Plotly) { window.PLOTLYENV=window.PLOTLYENV || {};window.PLOTLYENV.BASE_URL=\"https://plot.ly\";Plotly.newPlot(\"83160289-1999-4b43-b874-6345d394712b\", [{\"mode\": \"lines+markers\", \"name\": \"training accuracy\", \"x\": [1, 2, 3, 4, 5, 6, 7, 8, 9, 10], \"y\": [1.0, 0.8489295178013407, 0.8194343929538755, 0.8168007715187524, 0.7933627228318063, 0.7871902291986861, 0.787192898001129, 0.7541918525127793, 0.7283986168755594, 0.7210974727340191], \"type\": \"scatter\", \"uid\": \"cb8eec79-0d43-4ec5-af5c-9a622a90b684\"}, {\"mode\": \"lines+markers\", \"name\": \"test accuracy\", \"x\": [1, 2, 3, 4, 5, 6, 7, 8, 9, 10], \"y\": [0.3519867415115093, 0.6557491875542131, 0.8344172446249604, 0.7704189018456431, 0.7071381144011731, 0.6963552119009186, 0.6752134587675717, 0.6788241385739405, 0.6541236379533191, 0.6381920637966467], \"type\": \"scatter\", \"uid\": \"e7c2cc3f-dc57-47ab-a0da-ea2c44b63585\"}], {\"title\": \"Comparasion of different hyper params performance\", \"xaxis\": {\"title\": \"Hyper Params values\"}, \"yaxis\": {\"title\": \"Accuracy\"}}, {\"showLink\": true, \"linkText\": \"Export to plot.ly\", \"plotlyServerURL\": \"https://plot.ly\"})});</script><script type=\"text/javascript\">window.addEventListener(\"resize\", function(){window._Plotly.Plots.resize(document.getElementById(\"83160289-1999-4b43-b874-6345d394712b\"));});</script>"
      ],
      "text/vnd.plotly.v1+html": [
       "<div id=\"83160289-1999-4b43-b874-6345d394712b\" style=\"height: 525px; width: 100%;\" class=\"plotly-graph-div\"></div><script type=\"text/javascript\">require([\"plotly\"], function(Plotly) { window.PLOTLYENV=window.PLOTLYENV || {};window.PLOTLYENV.BASE_URL=\"https://plot.ly\";Plotly.newPlot(\"83160289-1999-4b43-b874-6345d394712b\", [{\"mode\": \"lines+markers\", \"name\": \"training accuracy\", \"x\": [1, 2, 3, 4, 5, 6, 7, 8, 9, 10], \"y\": [1.0, 0.8489295178013407, 0.8194343929538755, 0.8168007715187524, 0.7933627228318063, 0.7871902291986861, 0.787192898001129, 0.7541918525127793, 0.7283986168755594, 0.7210974727340191], \"type\": \"scatter\", \"uid\": \"cb8eec79-0d43-4ec5-af5c-9a622a90b684\"}, {\"mode\": \"lines+markers\", \"name\": \"test accuracy\", \"x\": [1, 2, 3, 4, 5, 6, 7, 8, 9, 10], \"y\": [0.3519867415115093, 0.6557491875542131, 0.8344172446249604, 0.7704189018456431, 0.7071381144011731, 0.6963552119009186, 0.6752134587675717, 0.6788241385739405, 0.6541236379533191, 0.6381920637966467], \"type\": \"scatter\", \"uid\": \"e7c2cc3f-dc57-47ab-a0da-ea2c44b63585\"}], {\"title\": \"Comparasion of different hyper params performance\", \"xaxis\": {\"title\": \"Hyper Params values\"}, \"yaxis\": {\"title\": \"Accuracy\"}}, {\"showLink\": true, \"linkText\": \"Export to plot.ly\", \"plotlyServerURL\": \"https://plot.ly\"})});</script><script type=\"text/javascript\">window.addEventListener(\"resize\", function(){window._Plotly.Plots.resize(document.getElementById(\"83160289-1999-4b43-b874-6345d394712b\"));});</script>"
      ]
     },
     "metadata": {},
     "output_type": "display_data"
    }
   ],
   "source": [
    "X, y = mglearn.datasets.make_wave(n_samples=40)\n",
    "# split the wave dataset into a training and a test set\n",
    "X_train, X_test, y_train, y_test = train_test_split(X, y, random_state=0)\n",
    "\n",
    "from sklearn.neighbors import KNeighborsRegressor\n",
    "\n",
    "plot_accuracy_interactive(X_train, X_test, y_train, y_test, lambda param: KNeighborsRegressor(n_neighbors=param))"
   ]
  },
  {
   "cell_type": "code",
   "execution_count": 14,
   "metadata": {},
   "outputs": [
    {
     "name": "stderr",
     "output_type": "stream",
     "text": [
      "/Users/kino/code-notes/ml-python/ml/lib/python3.7/site-packages/sklearn/linear_model/base.py:485: RuntimeWarning:\n",
      "\n",
      "internal gelsd driver lwork query error, required iwork dimension not returned. This is likely the result of LAPACK bug 0038, fixed in LAPACK 3.2.2 (released July 21, 2010). Falling back to 'gelss' driver.\n",
      "\n"
     ]
    },
    {
     "name": "stdout",
     "output_type": "stream",
     "text": [
      "w[0]: 0.393906  b: -0.031804\n"
     ]
    },
    {
     "data": {
      "image/png": "[encoded data removed]",
      "text/plain": [
       "<Figure size 576x576 with 1 Axes>"
      ]
     },
     "metadata": {
      "needs_background": "light"
     },
     "output_type": "display_data"
    }
   ],
   "source": [
    "mglearn.plots.plot_linear_regression_wave()"
   ]
  },
  {
   "cell_type": "code",
   "execution_count": 15,
   "metadata": {},
   "outputs": [
    {
     "name": "stdout",
     "output_type": "stream",
     "text": [
      "weight (coefficient):  [0.39390555]\n",
      "bias (intercept):  -0.031804343026759746\n",
      "training set score 0.6700890315075756\n",
      "test set score 0.65933685968637\n"
     ]
    }
   ],
   "source": [
    "from sklearn.linear_model import LinearRegression\n",
    "X, y = mglearn.datasets.make_wave(n_samples=60)\n",
    "X_train, X_test, y_train, y_test = train_test_split(X, y, random_state=42)\n",
    "# Note no params needed for linear regression models\n",
    "lr = LinearRegression().fit(X_train, y_train)\n",
    "# what's inside the objects returned by LinearRegression ? \n",
    "print('weight (coefficient): ', lr.coef_)\n",
    "print('bias (intercept): ', lr.intercept_)\n",
    "\n",
    "# see, an underfitting here because the data is simple\n",
    "print('training set score', lr.score(X_train, y_train))\n",
    "print('test set score', lr.score(X_test, y_test))\n"
   ]
  },
  {
   "cell_type": "code",
   "execution_count": 16,
   "metadata": {},
   "outputs": [
    {
     "name": "stdout",
     "output_type": "stream",
     "text": [
      "training set score 0.9520519609032727\n",
      "test set score 0.6074721959665843\n"
     ]
    }
   ],
   "source": [
    "X,y = mglearn.datasets.load_extended_boston()\n",
    "X_train, X_test, y_train, y_test = train_test_split(X, y, random_state=0)\n",
    "lr = LinearRegression().fit(X_train, y_train)\n",
    "\n",
    "# with dataset has 103 features, we see an overfitting\n",
    "print('training set score', lr.score(X_train, y_train))\n",
    "print('test set score', lr.score(X_test, y_test))\n",
    "\n"
   ]
  },
  {
   "cell_type": "code",
   "execution_count": 17,
   "metadata": {
    "scrolled": false
   },
   "outputs": [
    {
     "name": "stdout",
     "output_type": "stream",
     "text": [
      "training set score 0.885796658517094\n",
      "test set score 0.752768348174475\n"
     ]
    },
    {
     "data": {
      "application/vnd.plotly.v1+json": {
       "config": {
        "linkText": "Export to plot.ly",
        "plotlyServerURL": "https://plot.ly",
        "showLink": true
       },
       "data": [
        {
         "mode": "lines+markers",
         "name": "training accuracy",
         "type": "scatter",
         "uid": "bb0d0bda-902e-4d62-a7d8-9807c01bebf1",
         "x": [
          0,
          0.01,
          0.02,
          0.03,
          0.04,
          0.05,
          0.06,
          0.07,
          0.08,
          0.09,
          0.1,
          0.3
         ],
         "y": [
          0.9512018463247567,
          0.9444599240824927,
          0.9406722346877622,
          0.9380926477091978,
          0.9360826368889383,
          0.9343998622870335,
          0.9329294684214201,
          0.9316087434884365,
          0.9303998852360562,
          0.92927837151099,
          0.9282273685001986,
          0.9136488850790492
         ]
        },
        {
         "mode": "lines+markers",
         "name": "test accuracy",
         "type": "scatter",
         "uid": "8ed91217-0a3e-4ff4-a9c4-20230662929f",
         "x": [
          0,
          0.01,
          0.02,
          0.03,
          0.04,
          0.05,
          0.06,
          0.07,
          0.08,
          0.09,
          0.1,
          0.3
         ],
         "y": [
          0.6163091392356572,
          0.7022485939212727,
          0.7330975588162749,
          0.7477903146585214,
          0.7562018013465985,
          0.7615599966001555,
          0.7652093121516302,
          0.7678064266102627,
          0.7697098545071888,
          0.7711319984583881,
          0.772206793647981,
          0.7732413227836931
         ]
        }
       ],
       "layout": {
        "title": "Comparasion of different hyper params performance",
        "xaxis": {
         "title": "Hyper Params values"
        },
        "yaxis": {
         "title": "Accuracy"
        }
       }
      },
      "text/html": [
       "<div id=\"531ec862-67ed-4d6b-9a09-55656be69e0a\" style=\"height: 525px; width: 100%;\" class=\"plotly-graph-div\"></div><script type=\"text/javascript\">require([\"plotly\"], function(Plotly) { window.PLOTLYENV=window.PLOTLYENV || {};window.PLOTLYENV.BASE_URL=\"https://plot.ly\";Plotly.newPlot(\"531ec862-67ed-4d6b-9a09-55656be69e0a\", [{\"mode\": \"lines+markers\", \"name\": \"training accuracy\", \"x\": [0.0, 0.01, 0.02, 0.03, 0.04, 0.05, 0.06, 0.07, 0.08, 0.09, 0.1, 0.3], \"y\": [0.9512018463247567, 0.9444599240824927, 0.9406722346877622, 0.9380926477091978, 0.9360826368889383, 0.9343998622870335, 0.9329294684214201, 0.9316087434884365, 0.9303998852360562, 0.92927837151099, 0.9282273685001986, 0.9136488850790492], \"type\": \"scatter\", \"uid\": \"18fc73d2-d10a-4d29-bb83-3beb1856f32e\"}, {\"mode\": \"lines+markers\", \"name\": \"test accuracy\", \"x\": [0.0, 0.01, 0.02, 0.03, 0.04, 0.05, 0.06, 0.07, 0.08, 0.09, 0.1, 0.3], \"y\": [0.6163091392356572, 0.7022485939212727, 0.7330975588162749, 0.7477903146585214, 0.7562018013465985, 0.7615599966001555, 0.7652093121516302, 0.7678064266102627, 0.7697098545071888, 0.7711319984583881, 0.772206793647981, 0.7732413227836931], \"type\": \"scatter\", \"uid\": \"1b8f3233-bb5a-46a8-a78b-25f83d7da575\"}], {\"title\": \"Comparasion of different hyper params performance\", \"xaxis\": {\"title\": \"Hyper Params values\"}, \"yaxis\": {\"title\": \"Accuracy\"}}, {\"showLink\": true, \"linkText\": \"Export to plot.ly\", \"plotlyServerURL\": \"https://plot.ly\"})});</script><script type=\"text/javascript\">window.addEventListener(\"resize\", function(){window._Plotly.Plots.resize(document.getElementById(\"531ec862-67ed-4d6b-9a09-55656be69e0a\"));});</script>"
      ],
      "text/vnd.plotly.v1+html": [
       "<div id=\"531ec862-67ed-4d6b-9a09-55656be69e0a\" style=\"height: 525px; width: 100%;\" class=\"plotly-graph-div\"></div><script type=\"text/javascript\">require([\"plotly\"], function(Plotly) { window.PLOTLYENV=window.PLOTLYENV || {};window.PLOTLYENV.BASE_URL=\"https://plot.ly\";Plotly.newPlot(\"531ec862-67ed-4d6b-9a09-55656be69e0a\", [{\"mode\": \"lines+markers\", \"name\": \"training accuracy\", \"x\": [0.0, 0.01, 0.02, 0.03, 0.04, 0.05, 0.06, 0.07, 0.08, 0.09, 0.1, 0.3], \"y\": [0.9512018463247567, 0.9444599240824927, 0.9406722346877622, 0.9380926477091978, 0.9360826368889383, 0.9343998622870335, 0.9329294684214201, 0.9316087434884365, 0.9303998852360562, 0.92927837151099, 0.9282273685001986, 0.9136488850790492], \"type\": \"scatter\", \"uid\": \"18fc73d2-d10a-4d29-bb83-3beb1856f32e\"}, {\"mode\": \"lines+markers\", \"name\": \"test accuracy\", \"x\": [0.0, 0.01, 0.02, 0.03, 0.04, 0.05, 0.06, 0.07, 0.08, 0.09, 0.1, 0.3], \"y\": [0.6163091392356572, 0.7022485939212727, 0.7330975588162749, 0.7477903146585214, 0.7562018013465985, 0.7615599966001555, 0.7652093121516302, 0.7678064266102627, 0.7697098545071888, 0.7711319984583881, 0.772206793647981, 0.7732413227836931], \"type\": \"scatter\", \"uid\": \"1b8f3233-bb5a-46a8-a78b-25f83d7da575\"}], {\"title\": \"Comparasion of different hyper params performance\", \"xaxis\": {\"title\": \"Hyper Params values\"}, \"yaxis\": {\"title\": \"Accuracy\"}}, {\"showLink\": true, \"linkText\": \"Export to plot.ly\", \"plotlyServerURL\": \"https://plot.ly\"})});</script><script type=\"text/javascript\">window.addEventListener(\"resize\", function(){window._Plotly.Plots.resize(document.getElementById(\"531ec862-67ed-4d6b-9a09-55656be69e0a\"));});</script>"
      ]
     },
     "metadata": {},
     "output_type": "display_data"
    }
   ],
   "source": [
    "from sklearn.linear_model import Ridge\n",
    "ridge = Ridge().fit(X_train, y_train)\n",
    "print('training set score', ridge.score(X_train, y_train))\n",
    "print('test set score', ridge.score(X_test, y_test))\n",
    "\n",
    "# plot_accuracy(X_train, X_test, y_train, y_test, lambda param: Ridge(alpha=param), hyper_params=[0.01, 0.1, 0.3, 1.0, 2.0])\n",
    "plot_accuracy_interactive(X_train, X_test, y_train, y_test, lambda param: Ridge(alpha=param), hyper_params=[0.0,0.01, 0.02, 0.03, 0.04, 0.05, 0.06, 0.07, 0.08, 0.09, 0.1, 0.3])\n",
    "\n"
   ]
  },
  {
   "cell_type": "code",
   "execution_count": 18,
   "metadata": {
    "scrolled": false
   },
   "outputs": [
    {
     "data": {
      "application/vnd.plotly.v1+json": {
       "config": {
        "linkText": "Export to plot.ly",
        "plotlyServerURL": "https://plot.ly",
        "showLink": true
       },
       "data": [
        {
         "marker": {
          "size": 10,
          "symbol": "star-dot"
         },
         "mode": "markers",
         "name": "LinearRgression",
         "type": "scatter",
         "uid": "280cba34-68ba-4e15-953f-06fdf463c4fd",
         "x": [
          0,
          1,
          2,
          3,
          4,
          5,
          6,
          7,
          8,
          9,
          10,
          11,
          12,
          13,
          14,
          15,
          16,
          17,
          18,
          19,
          20,
          21,
          22,
          23,
          24,
          25,
          26,
          27,
          28,
          29,
          30,
          31,
          32,
          33,
          34,
          35,
          36,
          37,
          38,
          39,
          40,
          41,
          42,
          43,
          44,
          45,
          46,
          47,
          48,
          49,
          50,
          51,
          52,
          53,
          54,
          55,
          56,
          57,
          58,
          59,
          60,
          61,
          62,
          63,
          64,
          65,
          66,
          67,
          68,
          69,
          70,
          71,
          72,
          73,
          74,
          75,
          76,
          77,
          78,
          79,
          80,
          81,
          82,
          83,
          84,
          85,
          86,
          87,
          88,
          89,
          90,
          91,
          92,
          93,
          94,
          95,
          96,
          97,
          98,
          99,
          100,
          101,
          102
         ],
         "y": [
          -412.7109467048374,
          -52.566555636620514,
          -131.93503982995514,
          588407239848280.5,
          -15.276680069315756,
          28.748243509298838,
          54.6808237192798,
          -49.45839467822074,
          26.358989867823418,
          37.29089882769746,
          -11.965810707885101,
          -18.048218466786103,
          -19.39659741935412,
          12.203355048025623,
          2928.9517427122387,
          1517.9936487267612,
          114.00129393841787,
          -18.321188133984545,
          41.342458822543804,
          -23.894123132157343,
          59.046998203250396,
          1301.14847672631,
          -2279.3410878812533,
          226.33611670359826,
          -2.6092931975317857,
          43.45795884300337,
          -13.37505519695548,
          -19.34604287154309,
          -2.7111037892082024,
          -80.64635835767032,
          9.475422918942598,
          5.029718896716175,
          -0.9160483488536706,
          -7.496815549409616,
          33.74040426932368,
          -11.342505438333024,
          68.67007230135553,
          -17.30318429710193,
          42.870561257625425,
          0.9666595071501705,
          -0.3858330741972704,
          56.91509040307511,
          14.252955080533134,
          54.223605964286754,
          -32.4134760130045,
          19.224774813907594,
          -13.897864636152585,
          60.755582416656715,
          -12.332716476356921,
          -588407239848304.2,
          -17.5742636590923,
          -34.00991469010963,
          7.222802136248186,
          -9.055046871799272,
          17.021917196025864,
          -12.62316042739112,
          -11.87459860873018,
          57.629703089537315,
          -17.67176451847651,
          3.8873907539558257,
          29.407066330752283,
          -17.424439719066136,
          77.70772155765734,
          -31.794319756739547,
          47.97315308296881,
          -39.47674044631525,
          5.27578323567119,
          22.027111429915692,
          25.706134290373726,
          -50.14832978296572,
          29.336299316055648,
          8.86183735445018,
          -71.25863070497306,
          -22.9764605794334,
          8.36041711754834,
          -5.497422986278853,
          1.270662254280186,
          -5.093290138292019,
          41.02975340010974,
          -37.78177037852677,
          -2.6081235642324136,
          -25.325391841364112,
          -33.57142558020807,
          46.458232775954045,
          -24.185561375150392,
          -17.805263795900977,
          -14.044546149278029,
          -23.884230702209585,
          36.93353941860556,
          -94.66598956751639,
          144.25661716376874,
          -15.19670306077483,
          -14.789669154576629,
          -29.119403014216235,
          -31.69803017722156,
          24.943611242107696,
          -18.842639417359525,
          3.9798623836012776,
          1.8233965933490692,
          35.6157735019665,
          11.972665131694084,
          0.7001222909051079,
          2.6190383713722865,
          30.233423132249104
         ]
        },
        {
         "marker": {
          "size": 10,
          "symbol": "triangle-down"
         },
         "mode": "markers",
         "name": "Alpah01",
         "type": "scatter",
         "uid": "1b52f5e2-a542-41fd-b9ea-3b6850e92e96",
         "x": [
          0,
          1,
          2,
          3,
          4,
          5,
          6,
          7,
          8,
          9,
          10,
          11,
          12,
          13,
          14,
          15,
          16,
          17,
          18,
          19,
          20,
          21,
          22,
          23,
          24,
          25,
          26,
          27,
          28,
          29,
          30,
          31,
          32,
          33,
          34,
          35,
          36,
          37,
          38,
          39,
          40,
          41,
          42,
          43,
          44,
          45,
          46,
          47,
          48,
          49,
          50,
          51,
          52,
          53,
          54,
          55,
          56,
          57,
          58,
          59,
          60,
          61,
          62,
          63,
          64,
          65,
          66,
          67,
          68,
          69,
          70,
          71,
          72,
          73,
          74,
          75,
          76,
          77,
          78,
          79,
          80,
          81,
          82,
          83,
          84,
          85,
          86,
          87,
          88,
          89,
          90,
          91,
          92,
          93,
          94,
          95,
          96,
          97,
          98,
          99,
          100,
          101,
          102
         ],
         "y": [
          -2.333007199134354,
          -5.441928500628398,
          -6.1286546325751585,
          -0.7785246926757949,
          1.29152994620045,
          19.022283891643262,
          4.358647305591979,
          -11.191106734052605,
          9.555396717004882,
          -0.7486714064656897,
          -0.5333070881595147,
          6.233849456487583,
          -2.728867311778551,
          5.861171207367358,
          0.022823371149166112,
          -0.90160831093908,
          4.667564407468414,
          -3.379833543060446,
          1.3161146023629409,
          -3.4889555412959887,
          0.4415362152346484,
          -3.5194108481356285,
          -2.522226589402332,
          -2.6956206987766613,
          0.24464948004803233,
          -1.0230660441620498,
          3.0422358397028173,
          -2.6880412757047005,
          4.283960187525682,
          -2.9410931092034254,
          8.709347024039152,
          -3.13683471552991,
          -0.291608183191454,
          2.1748737488109033,
          3.62658110811467,
          2.300478400056092,
          -2.8378946117287978,
          -6.172079688964485,
          7.9485891173372565,
          1.656319961317215,
          8.727796431499701,
          1.0804255210981477,
          5.722080081664213,
          -4.764010680488275,
          5.0746100077436775,
          8.016036350704448,
          -8.442540412127244,
          -0.6445264498973334,
          -14.228839871313802,
          -0.7785246926761106,
          -13.898259451683764,
          -15.92984793560969,
          6.426009043912035,
          -1.8527365923596304,
          6.379498503454449,
          4.0312264803724585,
          -0.9480530108353544,
          11.113439244251763,
          -6.9759766242339305,
          -0.6716086078693214,
          -2.5782155993627778,
          -6.756829679751636,
          -0.6645023196762779,
          -6.517662909490627,
          -1.3942812432149838,
          -5.012223867429895,
          0.49514275414003067,
          4.285182626709717,
          20.792905897402584,
          -8.256335655119425,
          4.233559577135309,
          -14.2148212664972,
          -15.00403305525455,
          -18.148274595840547,
          12.986384681219924,
          -7.815217927560714,
          0.04171400753770583,
          2.9800002580946394,
          11.163511183170957,
          -3.156989056723144,
          -0.03382179769683541,
          -4.165817186866214,
          -11.602610937162654,
          10.634058282247816,
          3.6998995833501818,
          2.574729152095339,
          -0.4909401059458082,
          -12.535950935363573,
          4.664111783011835,
          -4.680235838611937,
          4.820634673290127,
          3.9089599495610994,
          -2.3562065189279493,
          -12.878237015574669,
          -0.7792033313261391,
          8.56450892393242,
          -2.8500329072574004,
          -13.458179683448511,
          3.8243276816064653,
          -0.5596617860478089,
          4.947478630618782,
          2.6677649904428806,
          -6.907626360428502,
          24.258596238537645
         ]
        },
        {
         "marker": {
          "size": 10,
          "symbol": "triangle-up"
         },
         "mode": "markers",
         "name": "Alpha1",
         "type": "scatter",
         "uid": "39e28d20-415b-4992-bdf1-517e0a8eff4f",
         "x": [
          0,
          1,
          2,
          3,
          4,
          5,
          6,
          7,
          8,
          9,
          10,
          11,
          12,
          13,
          14,
          15,
          16,
          17,
          18,
          19,
          20,
          21,
          22,
          23,
          24,
          25,
          26,
          27,
          28,
          29,
          30,
          31,
          32,
          33,
          34,
          35,
          36,
          37,
          38,
          39,
          40,
          41,
          42,
          43,
          44,
          45,
          46,
          47,
          48,
          49,
          50,
          51,
          52,
          53,
          54,
          55,
          56,
          57,
          58,
          59,
          60,
          61,
          62,
          63,
          64,
          65,
          66,
          67,
          68,
          69,
          70,
          71,
          72,
          73,
          74,
          75,
          76,
          77,
          78,
          79,
          80,
          81,
          82,
          83,
          84,
          85,
          86,
          87,
          88,
          89,
          90,
          91,
          92,
          93,
          94,
          95,
          96,
          97,
          98,
          99,
          100,
          101,
          102
         ],
         "y": [
          -1.413684083780349,
          -1.5566189473795087,
          -1.4654340863484183,
          -0.12661607071391578,
          -0.07911936048069203,
          8.331610233377448,
          0.2549750596227878,
          -4.9414570057673695,
          3.8986226848676133,
          -1.0586605836238874,
          -1.584337338557058,
          1.0510385592394458,
          -4.0122079853834896,
          0.33372047539002825,
          0.003647254707276483,
          -0.8492957927742391,
          0.7449892669420809,
          -1.4310683636753203,
          -1.6298101683904944,
          -1.4048629409591198,
          -0.044731436617466536,
          -1.7461987958984249,
          -1.467158875939854,
          -1.3323711136773557,
          -1.691546245943043,
          -0.5061796365598169,
          2.621975909983311,
          -2.092100019994376,
          0.195074660908145,
          -0.2754694215166183,
          5.113082020820536,
          -1.6708373882841727,
          -0.09818631786255409,
          0.634477127261805,
          -0.6100082808063622,
          0.040180589749864035,
          -1.276619985343798,
          -2.913496794373609,
          3.395440346589441,
          0.7919040359387088,
          1.352602317542377,
          -4.036612649180047,
          2.3236173368945727,
          -3.367129258644743,
          1.8127920355812368,
          3.015668967577463,
          -1.8945206954315839,
          -0.2508440733748524,
          -2.895437352297534,
          -0.1266160707139142,
          -5.002171917715859,
          -2.4395180639422764,
          2.8507184592540153,
          -0.8570811773852233,
          2.9914195952114393,
          2.345897551752236,
          1.3120708100847769,
          1.7184511888219198,
          -2.5976669723076213,
          -1.323706746647553,
          -2.8124222277173216,
          -2.0911705772539326,
          -1.0842833518704407,
          -2.7384362526156973,
          -1.6198975311928334,
          -2.8049327982465835,
          0.9446414823110046,
          -1.6536337448580924,
          16.65535582138174,
          -1.1098055052181095,
          2.141886051844984,
          -8.038553868749174,
          -8.591499281027685,
          -7.541610989251948,
          10.292402241205783,
          -7.9642589716872445,
          0.7685407419550434,
          -1.8521300225564774,
          2.514973870502858,
          -0.3420742569309238,
          -1.7960427817086708,
          -0.29304816183904886,
          -4.782423789745529,
          0.8632833167258417,
          0.4223614228389079,
          -1.4165669548172308,
          -0.21202311273152738,
          -5.081213685746582,
          -0.5472475089946752,
          1.538353901642191,
          1.8134803252125211,
          1.972520208601326,
          1.8184965150108685,
          -7.143386965684487,
          1.1047253265484127,
          1.422422157689136,
          -1.3149401950542836,
          -6.77170440707718,
          1.8220447644281441,
          -2.361124437750722,
          0.04346705722604016,
          1.2088600007992822,
          -6.3259916327332295,
          10.360023103044833
         ]
        },
        {
         "marker": {
          "size": 8
         },
         "mode": "markers",
         "name": "Alpha10",
         "type": "scatter",
         "uid": "f6bd4ebc-44a0-45a9-a14d-692d3a395974",
         "x": [
          0,
          1,
          2,
          3,
          4,
          5,
          6,
          7,
          8,
          9,
          10,
          11,
          12,
          13,
          14,
          15,
          16,
          17,
          18,
          19,
          20,
          21,
          22,
          23,
          24,
          25,
          26,
          27,
          28,
          29,
          30,
          31,
          32,
          33,
          34,
          35,
          36,
          37,
          38,
          39,
          40,
          41,
          42,
          43,
          44,
          45,
          46,
          47,
          48,
          49,
          50,
          51,
          52,
          53,
          54,
          55,
          56,
          57,
          58,
          59,
          60,
          61,
          62,
          63,
          64,
          65,
          66,
          67,
          68,
          69,
          70,
          71,
          72,
          73,
          74,
          75,
          76,
          77,
          78,
          79,
          80,
          81,
          82,
          83,
          84,
          85,
          86,
          87,
          88,
          89,
          90,
          91,
          92,
          93,
          94,
          95,
          96,
          97,
          98,
          99,
          100,
          101,
          102
         ],
         "y": [
          -0.8116096308212203,
          0.6476088958461483,
          -0.809783228732998,
          0.3113347091145371,
          -0.6846237473772404,
          4.387975752570901,
          -0.14755447447629413,
          -2.4421406492313,
          0.845915098655801,
          -1.1472750824825304,
          -2.3316203983260717,
          1.0678701475218118,
          -3.983910248968126,
          -0.5986369760866345,
          0.0029322819266536164,
          -0.5212538233970011,
          0.1403396725046739,
          -0.6452560574610805,
          -0.7614005391839037,
          -0.7472311707973692,
          -0.03862980049251043,
          -0.8298080586371029,
          -0.7528597558885264,
          -0.6756058990034935,
          -0.8720014881383418,
          -0.32333064007690393,
          1.2733632651632205,
          -0.3372795498071462,
          0.06306820376443749,
          0.2370928970341333,
          2.0980560653345166,
          0.10099676795161114,
          -0.27952966235596977,
          0.17322261872598296,
          -0.33355784953857054,
          -0.37422665341806305,
          0.6984148078475326,
          -0.696284917958808,
          0.7795210099432548,
          0.3748432099762908,
          -0.6241012437110319,
          -0.7636576046457033,
          0.043575643891619276,
          -1.040008520360366,
          0.4244015763588787,
          0.4786870209080289,
          -0.3841254447901046,
          -0.09938026527541258,
          -1.3022635646063543,
          0.3113347091145387,
          -0.5920976369410507,
          0.6338165421774348,
          0.6667928947088562,
          -0.12795994425047308,
          1.3534692952505833,
          1.0983924592396124,
          0.6371001477941478,
          0.4764029166305069,
          -0.9701219147351847,
          -1.43819285710038,
          -0.06918662183390711,
          -0.9293355123402423,
          -0.45529956311263103,
          -0.6561293781987138,
          -0.9311809158203144,
          -1.1726075300007404,
          0.33550902585339804,
          -1.765464231244521,
          7.0280408423290535,
          1.5176550612446975,
          0.3908335626043519,
          -1.2172336644470114,
          -1.867185751210133,
          -1.3610559067197923,
          5.4632333231050465,
          -2.8965214643332824,
          0.1266930126451831,
          -1.4831165560125346,
          0.5353920866390409,
          -0.489624714577056,
          -1.6297952492709007,
          0.6136657530896459,
          -2.9878689322701493,
          -1.2780703345974902,
          -0.2830565857504068,
          -1.0343294914578895,
          -1.6929333847703145,
          -2.2635278790749847,
          -1.3307651050611524,
          0.9267214534383018,
          0.6270479213705895,
          0.2350075861664406,
          1.3343863887206644,
          -1.8841018269997274,
          0.3926306762759367,
          -0.442694598250054,
          -0.45491408803068484,
          -2.056683591399592,
          -1.4954776636538711,
          -1.7695496175370022,
          -2.0363710278643676,
          1.079849157234487,
          -3.9526409224113492,
          0.14244896684351377
         ]
        }
       ],
       "layout": {
        "title": "coefficient with different alpha",
        "xaxis": {
         "title": "coefficient index"
        },
        "yaxis": {
         "range": [
          -25,
          25
         ],
         "title": "coefficient magnitude"
        }
       }
      },
      "text/html": [
       "<div id=\"def972c7-0787-4447-8245-10390499cd44\" style=\"height: 525px; width: 100%;\" class=\"plotly-graph-div\"></div><script type=\"text/javascript\">require([\"plotly\"], function(Plotly) { window.PLOTLYENV=window.PLOTLYENV || {};window.PLOTLYENV.BASE_URL=\"https://plot.ly\";Plotly.newPlot(\"def972c7-0787-4447-8245-10390499cd44\", [{\"marker\": {\"size\": 10, \"symbol\": \"star-dot\"}, \"mode\": \"markers\", \"name\": \"LinearRgression\", \"x\": [0, 1, 2, 3, 4, 5, 6, 7, 8, 9, 10, 11, 12, 13, 14, 15, 16, 17, 18, 19, 20, 21, 22, 23, 24, 25, 26, 27, 28, 29, 30, 31, 32, 33, 34, 35, 36, 37, 38, 39, 40, 41, 42, 43, 44, 45, 46, 47, 48, 49, 50, 51, 52, 53, 54, 55, 56, 57, 58, 59, 60, 61, 62, 63, 64, 65, 66, 67, 68, 69, 70, 71, 72, 73, 74, 75, 76, 77, 78, 79, 80, 81, 82, 83, 84, 85, 86, 87, 88, 89, 90, 91, 92, 93, 94, 95, 96, 97, 98, 99, 100, 101, 102], \"y\": [-412.7109467048374, -52.566555636620514, -131.93503982995514, 588407239848280.5, -15.276680069315756, 28.748243509298838, 54.6808237192798, -49.45839467822074, 26.358989867823418, 37.29089882769746, -11.965810707885101, -18.048218466786103, -19.39659741935412, 12.203355048025623, 2928.9517427122387, 1517.9936487267612, 114.00129393841787, -18.321188133984545, 41.342458822543804, -23.894123132157343, 59.046998203250396, 1301.14847672631, -2279.3410878812533, 226.33611670359826, -2.6092931975317857, 43.45795884300337, -13.37505519695548, -19.34604287154309, -2.7111037892082024, -80.64635835767032, 9.475422918942598, 5.029718896716175, -0.9160483488536706, -7.496815549409616, 33.74040426932368, -11.342505438333024, 68.67007230135553, -17.30318429710193, 42.870561257625425, 0.9666595071501705, -0.3858330741972704, 56.91509040307511, 14.252955080533134, 54.223605964286754, -32.4134760130045, 19.224774813907594, -13.897864636152585, 60.755582416656715, -12.332716476356921, -588407239848304.2, -17.5742636590923, -34.00991469010963, 7.222802136248186, -9.055046871799272, 17.021917196025864, -12.62316042739112, -11.87459860873018, 57.629703089537315, -17.67176451847651, 3.8873907539558257, 29.407066330752283, -17.424439719066136, 77.70772155765734, -31.794319756739547, 47.97315308296881, -39.47674044631525, 5.27578323567119, 22.027111429915692, 25.706134290373726, -50.14832978296572, 29.336299316055648, 8.86183735445018, -71.25863070497306, -22.9764605794334, 8.36041711754834, -5.497422986278853, 1.270662254280186, -5.093290138292019, 41.02975340010974, -37.78177037852677, -2.6081235642324136, -25.325391841364112, -33.57142558020807, 46.458232775954045, -24.185561375150392, -17.805263795900977, -14.044546149278029, -23.884230702209585, 36.93353941860556, -94.66598956751639, 144.25661716376874, -15.19670306077483, -14.789669154576629, -29.119403014216235, -31.69803017722156, 24.943611242107696, -18.842639417359525, 3.9798623836012776, 1.8233965933490692, 35.6157735019665, 11.972665131694084, 0.7001222909051079, 2.6190383713722865, 30.233423132249104], \"type\": \"scatter\", \"uid\": \"ac4d1dcb-fdc5-42a2-9e2c-71a8a953465e\"}, {\"marker\": {\"size\": 10, \"symbol\": \"triangle-down\"}, \"mode\": \"markers\", \"name\": \"Alpah01\", \"x\": [0, 1, 2, 3, 4, 5, 6, 7, 8, 9, 10, 11, 12, 13, 14, 15, 16, 17, 18, 19, 20, 21, 22, 23, 24, 25, 26, 27, 28, 29, 30, 31, 32, 33, 34, 35, 36, 37, 38, 39, 40, 41, 42, 43, 44, 45, 46, 47, 48, 49, 50, 51, 52, 53, 54, 55, 56, 57, 58, 59, 60, 61, 62, 63, 64, 65, 66, 67, 68, 69, 70, 71, 72, 73, 74, 75, 76, 77, 78, 79, 80, 81, 82, 83, 84, 85, 86, 87, 88, 89, 90, 91, 92, 93, 94, 95, 96, 97, 98, 99, 100, 101, 102], \"y\": [-2.333007199134354, -5.441928500628398, -6.1286546325751585, -0.7785246926757949, 1.29152994620045, 19.022283891643262, 4.358647305591979, -11.191106734052605, 9.555396717004882, -0.7486714064656897, -0.5333070881595147, 6.233849456487583, -2.728867311778551, 5.861171207367358, 0.022823371149166112, -0.90160831093908, 4.667564407468414, -3.379833543060446, 1.3161146023629409, -3.4889555412959887, 0.4415362152346484, -3.5194108481356285, -2.522226589402332, -2.6956206987766613, 0.24464948004803233, -1.0230660441620498, 3.0422358397028173, -2.6880412757047005, 4.283960187525682, -2.9410931092034254, 8.709347024039152, -3.13683471552991, -0.291608183191454, 2.1748737488109033, 3.62658110811467, 2.300478400056092, -2.8378946117287978, -6.172079688964485, 7.9485891173372565, 1.656319961317215, 8.727796431499701, 1.0804255210981477, 5.722080081664213, -4.764010680488275, 5.0746100077436775, 8.016036350704448, -8.442540412127244, -0.6445264498973334, -14.228839871313802, -0.7785246926761106, -13.898259451683764, -15.92984793560969, 6.426009043912035, -1.8527365923596304, 6.379498503454449, 4.0312264803724585, -0.9480530108353544, 11.113439244251763, -6.9759766242339305, -0.6716086078693214, -2.5782155993627778, -6.756829679751636, -0.6645023196762779, -6.517662909490627, -1.3942812432149838, -5.012223867429895, 0.49514275414003067, 4.285182626709717, 20.792905897402584, -8.256335655119425, 4.233559577135309, -14.2148212664972, -15.00403305525455, -18.148274595840547, 12.986384681219924, -7.815217927560714, 0.04171400753770583, 2.9800002580946394, 11.163511183170957, -3.156989056723144, -0.03382179769683541, -4.165817186866214, -11.602610937162654, 10.634058282247816, 3.6998995833501818, 2.574729152095339, -0.4909401059458082, -12.535950935363573, 4.664111783011835, -4.680235838611937, 4.820634673290127, 3.9089599495610994, -2.3562065189279493, -12.878237015574669, -0.7792033313261391, 8.56450892393242, -2.8500329072574004, -13.458179683448511, 3.8243276816064653, -0.5596617860478089, 4.947478630618782, 2.6677649904428806, -6.907626360428502, 24.258596238537645], \"type\": \"scatter\", \"uid\": \"7c26d162-44d6-4f61-a52e-332f3d2d50e7\"}, {\"marker\": {\"size\": 10, \"symbol\": \"triangle-up\"}, \"mode\": \"markers\", \"name\": \"Alpha1\", \"x\": [0, 1, 2, 3, 4, 5, 6, 7, 8, 9, 10, 11, 12, 13, 14, 15, 16, 17, 18, 19, 20, 21, 22, 23, 24, 25, 26, 27, 28, 29, 30, 31, 32, 33, 34, 35, 36, 37, 38, 39, 40, 41, 42, 43, 44, 45, 46, 47, 48, 49, 50, 51, 52, 53, 54, 55, 56, 57, 58, 59, 60, 61, 62, 63, 64, 65, 66, 67, 68, 69, 70, 71, 72, 73, 74, 75, 76, 77, 78, 79, 80, 81, 82, 83, 84, 85, 86, 87, 88, 89, 90, 91, 92, 93, 94, 95, 96, 97, 98, 99, 100, 101, 102], \"y\": [-1.413684083780349, -1.5566189473795087, -1.4654340863484183, -0.12661607071391578, -0.07911936048069203, 8.331610233377448, 0.2549750596227878, -4.9414570057673695, 3.8986226848676133, -1.0586605836238874, -1.584337338557058, 1.0510385592394458, -4.0122079853834896, 0.33372047539002825, 0.003647254707276483, -0.8492957927742391, 0.7449892669420809, -1.4310683636753203, -1.6298101683904944, -1.4048629409591198, -0.044731436617466536, -1.7461987958984249, -1.467158875939854, -1.3323711136773557, -1.691546245943043, -0.5061796365598169, 2.621975909983311, -2.092100019994376, 0.195074660908145, -0.2754694215166183, 5.113082020820536, -1.6708373882841727, -0.09818631786255409, 0.634477127261805, -0.6100082808063622, 0.040180589749864035, -1.276619985343798, -2.913496794373609, 3.395440346589441, 0.7919040359387088, 1.352602317542377, -4.036612649180047, 2.3236173368945727, -3.367129258644743, 1.8127920355812368, 3.015668967577463, -1.8945206954315839, -0.2508440733748524, -2.895437352297534, -0.1266160707139142, -5.002171917715859, -2.4395180639422764, 2.8507184592540153, -0.8570811773852233, 2.9914195952114393, 2.345897551752236, 1.3120708100847769, 1.7184511888219198, -2.5976669723076213, -1.323706746647553, -2.8124222277173216, -2.0911705772539326, -1.0842833518704407, -2.7384362526156973, -1.6198975311928334, -2.8049327982465835, 0.9446414823110046, -1.6536337448580924, 16.65535582138174, -1.1098055052181095, 2.141886051844984, -8.038553868749174, -8.591499281027685, -7.541610989251948, 10.292402241205783, -7.9642589716872445, 0.7685407419550434, -1.8521300225564774, 2.514973870502858, -0.3420742569309238, -1.7960427817086708, -0.29304816183904886, -4.782423789745529, 0.8632833167258417, 0.4223614228389079, -1.4165669548172308, -0.21202311273152738, -5.081213685746582, -0.5472475089946752, 1.538353901642191, 1.8134803252125211, 1.972520208601326, 1.8184965150108685, -7.143386965684487, 1.1047253265484127, 1.422422157689136, -1.3149401950542836, -6.77170440707718, 1.8220447644281441, -2.361124437750722, 0.04346705722604016, 1.2088600007992822, -6.3259916327332295, 10.360023103044833], \"type\": \"scatter\", \"uid\": \"b081dc5b-eff0-4179-8e62-5106e2fbba08\"}, {\"marker\": {\"size\": 8}, \"mode\": \"markers\", \"name\": \"Alpha10\", \"x\": [0, 1, 2, 3, 4, 5, 6, 7, 8, 9, 10, 11, 12, 13, 14, 15, 16, 17, 18, 19, 20, 21, 22, 23, 24, 25, 26, 27, 28, 29, 30, 31, 32, 33, 34, 35, 36, 37, 38, 39, 40, 41, 42, 43, 44, 45, 46, 47, 48, 49, 50, 51, 52, 53, 54, 55, 56, 57, 58, 59, 60, 61, 62, 63, 64, 65, 66, 67, 68, 69, 70, 71, 72, 73, 74, 75, 76, 77, 78, 79, 80, 81, 82, 83, 84, 85, 86, 87, 88, 89, 90, 91, 92, 93, 94, 95, 96, 97, 98, 99, 100, 101, 102], \"y\": [-0.8116096308212203, 0.6476088958461483, -0.809783228732998, 0.3113347091145371, -0.6846237473772404, 4.387975752570901, -0.14755447447629413, -2.4421406492313, 0.845915098655801, -1.1472750824825304, -2.3316203983260717, 1.0678701475218118, -3.983910248968126, -0.5986369760866345, 0.0029322819266536164, -0.5212538233970011, 0.1403396725046739, -0.6452560574610805, -0.7614005391839037, -0.7472311707973692, -0.03862980049251043, -0.8298080586371029, -0.7528597558885264, -0.6756058990034935, -0.8720014881383418, -0.32333064007690393, 1.2733632651632205, -0.3372795498071462, 0.06306820376443749, 0.2370928970341333, 2.0980560653345166, 0.10099676795161114, -0.27952966235596977, 0.17322261872598296, -0.33355784953857054, -0.37422665341806305, 0.6984148078475326, -0.696284917958808, 0.7795210099432548, 0.3748432099762908, -0.6241012437110319, -0.7636576046457033, 0.043575643891619276, -1.040008520360366, 0.4244015763588787, 0.4786870209080289, -0.3841254447901046, -0.09938026527541258, -1.3022635646063543, 0.3113347091145387, -0.5920976369410507, 0.6338165421774348, 0.6667928947088562, -0.12795994425047308, 1.3534692952505833, 1.0983924592396124, 0.6371001477941478, 0.4764029166305069, -0.9701219147351847, -1.43819285710038, -0.06918662183390711, -0.9293355123402423, -0.45529956311263103, -0.6561293781987138, -0.9311809158203144, -1.1726075300007404, 0.33550902585339804, -1.765464231244521, 7.0280408423290535, 1.5176550612446975, 0.3908335626043519, -1.2172336644470114, -1.867185751210133, -1.3610559067197923, 5.4632333231050465, -2.8965214643332824, 0.1266930126451831, -1.4831165560125346, 0.5353920866390409, -0.489624714577056, -1.6297952492709007, 0.6136657530896459, -2.9878689322701493, -1.2780703345974902, -0.2830565857504068, -1.0343294914578895, -1.6929333847703145, -2.2635278790749847, -1.3307651050611524, 0.9267214534383018, 0.6270479213705895, 0.2350075861664406, 1.3343863887206644, -1.8841018269997274, 0.3926306762759367, -0.442694598250054, -0.45491408803068484, -2.056683591399592, -1.4954776636538711, -1.7695496175370022, -2.0363710278643676, 1.079849157234487, -3.9526409224113492, 0.14244896684351377], \"type\": \"scatter\", \"uid\": \"64598c06-e35d-4d5e-8238-fd174e88a441\"}], {\"title\": \"coefficient with different alpha\", \"xaxis\": {\"title\": \"coefficient index\"}, \"yaxis\": {\"range\": [-25, 25], \"title\": \"coefficient magnitude\"}}, {\"showLink\": true, \"linkText\": \"Export to plot.ly\", \"plotlyServerURL\": \"https://plot.ly\"})});</script><script type=\"text/javascript\">window.addEventListener(\"resize\", function(){window._Plotly.Plots.resize(document.getElementById(\"def972c7-0787-4447-8245-10390499cd44\"));});</script>"
      ],
      "text/vnd.plotly.v1+html": [
       "<div id=\"def972c7-0787-4447-8245-10390499cd44\" style=\"height: 525px; width: 100%;\" class=\"plotly-graph-div\"></div><script type=\"text/javascript\">require([\"plotly\"], function(Plotly) { window.PLOTLYENV=window.PLOTLYENV || {};window.PLOTLYENV.BASE_URL=\"https://plot.ly\";Plotly.newPlot(\"def972c7-0787-4447-8245-10390499cd44\", [{\"marker\": {\"size\": 10, \"symbol\": \"star-dot\"}, \"mode\": \"markers\", \"name\": \"LinearRgression\", \"x\": [0, 1, 2, 3, 4, 5, 6, 7, 8, 9, 10, 11, 12, 13, 14, 15, 16, 17, 18, 19, 20, 21, 22, 23, 24, 25, 26, 27, 28, 29, 30, 31, 32, 33, 34, 35, 36, 37, 38, 39, 40, 41, 42, 43, 44, 45, 46, 47, 48, 49, 50, 51, 52, 53, 54, 55, 56, 57, 58, 59, 60, 61, 62, 63, 64, 65, 66, 67, 68, 69, 70, 71, 72, 73, 74, 75, 76, 77, 78, 79, 80, 81, 82, 83, 84, 85, 86, 87, 88, 89, 90, 91, 92, 93, 94, 95, 96, 97, 98, 99, 100, 101, 102], \"y\": [-412.7109467048374, -52.566555636620514, -131.93503982995514, 588407239848280.5, -15.276680069315756, 28.748243509298838, 54.6808237192798, -49.45839467822074, 26.358989867823418, 37.29089882769746, -11.965810707885101, -18.048218466786103, -19.39659741935412, 12.203355048025623, 2928.9517427122387, 1517.9936487267612, 114.00129393841787, -18.321188133984545, 41.342458822543804, -23.894123132157343, 59.046998203250396, 1301.14847672631, -2279.3410878812533, 226.33611670359826, -2.6092931975317857, 43.45795884300337, -13.37505519695548, -19.34604287154309, -2.7111037892082024, -80.64635835767032, 9.475422918942598, 5.029718896716175, -0.9160483488536706, -7.496815549409616, 33.74040426932368, -11.342505438333024, 68.67007230135553, -17.30318429710193, 42.870561257625425, 0.9666595071501705, -0.3858330741972704, 56.91509040307511, 14.252955080533134, 54.223605964286754, -32.4134760130045, 19.224774813907594, -13.897864636152585, 60.755582416656715, -12.332716476356921, -588407239848304.2, -17.5742636590923, -34.00991469010963, 7.222802136248186, -9.055046871799272, 17.021917196025864, -12.62316042739112, -11.87459860873018, 57.629703089537315, -17.67176451847651, 3.8873907539558257, 29.407066330752283, -17.424439719066136, 77.70772155765734, -31.794319756739547, 47.97315308296881, -39.47674044631525, 5.27578323567119, 22.027111429915692, 25.706134290373726, -50.14832978296572, 29.336299316055648, 8.86183735445018, -71.25863070497306, -22.9764605794334, 8.36041711754834, -5.497422986278853, 1.270662254280186, -5.093290138292019, 41.02975340010974, -37.78177037852677, -2.6081235642324136, -25.325391841364112, -33.57142558020807, 46.458232775954045, -24.185561375150392, -17.805263795900977, -14.044546149278029, -23.884230702209585, 36.93353941860556, -94.66598956751639, 144.25661716376874, -15.19670306077483, -14.789669154576629, -29.119403014216235, -31.69803017722156, 24.943611242107696, -18.842639417359525, 3.9798623836012776, 1.8233965933490692, 35.6157735019665, 11.972665131694084, 0.7001222909051079, 2.6190383713722865, 30.233423132249104], \"type\": \"scatter\", \"uid\": \"ac4d1dcb-fdc5-42a2-9e2c-71a8a953465e\"}, {\"marker\": {\"size\": 10, \"symbol\": \"triangle-down\"}, \"mode\": \"markers\", \"name\": \"Alpah01\", \"x\": [0, 1, 2, 3, 4, 5, 6, 7, 8, 9, 10, 11, 12, 13, 14, 15, 16, 17, 18, 19, 20, 21, 22, 23, 24, 25, 26, 27, 28, 29, 30, 31, 32, 33, 34, 35, 36, 37, 38, 39, 40, 41, 42, 43, 44, 45, 46, 47, 48, 49, 50, 51, 52, 53, 54, 55, 56, 57, 58, 59, 60, 61, 62, 63, 64, 65, 66, 67, 68, 69, 70, 71, 72, 73, 74, 75, 76, 77, 78, 79, 80, 81, 82, 83, 84, 85, 86, 87, 88, 89, 90, 91, 92, 93, 94, 95, 96, 97, 98, 99, 100, 101, 102], \"y\": [-2.333007199134354, -5.441928500628398, -6.1286546325751585, -0.7785246926757949, 1.29152994620045, 19.022283891643262, 4.358647305591979, -11.191106734052605, 9.555396717004882, -0.7486714064656897, -0.5333070881595147, 6.233849456487583, -2.728867311778551, 5.861171207367358, 0.022823371149166112, -0.90160831093908, 4.667564407468414, -3.379833543060446, 1.3161146023629409, -3.4889555412959887, 0.4415362152346484, -3.5194108481356285, -2.522226589402332, -2.6956206987766613, 0.24464948004803233, -1.0230660441620498, 3.0422358397028173, -2.6880412757047005, 4.283960187525682, -2.9410931092034254, 8.709347024039152, -3.13683471552991, -0.291608183191454, 2.1748737488109033, 3.62658110811467, 2.300478400056092, -2.8378946117287978, -6.172079688964485, 7.9485891173372565, 1.656319961317215, 8.727796431499701, 1.0804255210981477, 5.722080081664213, -4.764010680488275, 5.0746100077436775, 8.016036350704448, -8.442540412127244, -0.6445264498973334, -14.228839871313802, -0.7785246926761106, -13.898259451683764, -15.92984793560969, 6.426009043912035, -1.8527365923596304, 6.379498503454449, 4.0312264803724585, -0.9480530108353544, 11.113439244251763, -6.9759766242339305, -0.6716086078693214, -2.5782155993627778, -6.756829679751636, -0.6645023196762779, -6.517662909490627, -1.3942812432149838, -5.012223867429895, 0.49514275414003067, 4.285182626709717, 20.792905897402584, -8.256335655119425, 4.233559577135309, -14.2148212664972, -15.00403305525455, -18.148274595840547, 12.986384681219924, -7.815217927560714, 0.04171400753770583, 2.9800002580946394, 11.163511183170957, -3.156989056723144, -0.03382179769683541, -4.165817186866214, -11.602610937162654, 10.634058282247816, 3.6998995833501818, 2.574729152095339, -0.4909401059458082, -12.535950935363573, 4.664111783011835, -4.680235838611937, 4.820634673290127, 3.9089599495610994, -2.3562065189279493, -12.878237015574669, -0.7792033313261391, 8.56450892393242, -2.8500329072574004, -13.458179683448511, 3.8243276816064653, -0.5596617860478089, 4.947478630618782, 2.6677649904428806, -6.907626360428502, 24.258596238537645], \"type\": \"scatter\", \"uid\": \"7c26d162-44d6-4f61-a52e-332f3d2d50e7\"}, {\"marker\": {\"size\": 10, \"symbol\": \"triangle-up\"}, \"mode\": \"markers\", \"name\": \"Alpha1\", \"x\": [0, 1, 2, 3, 4, 5, 6, 7, 8, 9, 10, 11, 12, 13, 14, 15, 16, 17, 18, 19, 20, 21, 22, 23, 24, 25, 26, 27, 28, 29, 30, 31, 32, 33, 34, 35, 36, 37, 38, 39, 40, 41, 42, 43, 44, 45, 46, 47, 48, 49, 50, 51, 52, 53, 54, 55, 56, 57, 58, 59, 60, 61, 62, 63, 64, 65, 66, 67, 68, 69, 70, 71, 72, 73, 74, 75, 76, 77, 78, 79, 80, 81, 82, 83, 84, 85, 86, 87, 88, 89, 90, 91, 92, 93, 94, 95, 96, 97, 98, 99, 100, 101, 102], \"y\": [-1.413684083780349, -1.5566189473795087, -1.4654340863484183, -0.12661607071391578, -0.07911936048069203, 8.331610233377448, 0.2549750596227878, -4.9414570057673695, 3.8986226848676133, -1.0586605836238874, -1.584337338557058, 1.0510385592394458, -4.0122079853834896, 0.33372047539002825, 0.003647254707276483, -0.8492957927742391, 0.7449892669420809, -1.4310683636753203, -1.6298101683904944, -1.4048629409591198, -0.044731436617466536, -1.7461987958984249, -1.467158875939854, -1.3323711136773557, -1.691546245943043, -0.5061796365598169, 2.621975909983311, -2.092100019994376, 0.195074660908145, -0.2754694215166183, 5.113082020820536, -1.6708373882841727, -0.09818631786255409, 0.634477127261805, -0.6100082808063622, 0.040180589749864035, -1.276619985343798, -2.913496794373609, 3.395440346589441, 0.7919040359387088, 1.352602317542377, -4.036612649180047, 2.3236173368945727, -3.367129258644743, 1.8127920355812368, 3.015668967577463, -1.8945206954315839, -0.2508440733748524, -2.895437352297534, -0.1266160707139142, -5.002171917715859, -2.4395180639422764, 2.8507184592540153, -0.8570811773852233, 2.9914195952114393, 2.345897551752236, 1.3120708100847769, 1.7184511888219198, -2.5976669723076213, -1.323706746647553, -2.8124222277173216, -2.0911705772539326, -1.0842833518704407, -2.7384362526156973, -1.6198975311928334, -2.8049327982465835, 0.9446414823110046, -1.6536337448580924, 16.65535582138174, -1.1098055052181095, 2.141886051844984, -8.038553868749174, -8.591499281027685, -7.541610989251948, 10.292402241205783, -7.9642589716872445, 0.7685407419550434, -1.8521300225564774, 2.514973870502858, -0.3420742569309238, -1.7960427817086708, -0.29304816183904886, -4.782423789745529, 0.8632833167258417, 0.4223614228389079, -1.4165669548172308, -0.21202311273152738, -5.081213685746582, -0.5472475089946752, 1.538353901642191, 1.8134803252125211, 1.972520208601326, 1.8184965150108685, -7.143386965684487, 1.1047253265484127, 1.422422157689136, -1.3149401950542836, -6.77170440707718, 1.8220447644281441, -2.361124437750722, 0.04346705722604016, 1.2088600007992822, -6.3259916327332295, 10.360023103044833], \"type\": \"scatter\", \"uid\": \"b081dc5b-eff0-4179-8e62-5106e2fbba08\"}, {\"marker\": {\"size\": 8}, \"mode\": \"markers\", \"name\": \"Alpha10\", \"x\": [0, 1, 2, 3, 4, 5, 6, 7, 8, 9, 10, 11, 12, 13, 14, 15, 16, 17, 18, 19, 20, 21, 22, 23, 24, 25, 26, 27, 28, 29, 30, 31, 32, 33, 34, 35, 36, 37, 38, 39, 40, 41, 42, 43, 44, 45, 46, 47, 48, 49, 50, 51, 52, 53, 54, 55, 56, 57, 58, 59, 60, 61, 62, 63, 64, 65, 66, 67, 68, 69, 70, 71, 72, 73, 74, 75, 76, 77, 78, 79, 80, 81, 82, 83, 84, 85, 86, 87, 88, 89, 90, 91, 92, 93, 94, 95, 96, 97, 98, 99, 100, 101, 102], \"y\": [-0.8116096308212203, 0.6476088958461483, -0.809783228732998, 0.3113347091145371, -0.6846237473772404, 4.387975752570901, -0.14755447447629413, -2.4421406492313, 0.845915098655801, -1.1472750824825304, -2.3316203983260717, 1.0678701475218118, -3.983910248968126, -0.5986369760866345, 0.0029322819266536164, -0.5212538233970011, 0.1403396725046739, -0.6452560574610805, -0.7614005391839037, -0.7472311707973692, -0.03862980049251043, -0.8298080586371029, -0.7528597558885264, -0.6756058990034935, -0.8720014881383418, -0.32333064007690393, 1.2733632651632205, -0.3372795498071462, 0.06306820376443749, 0.2370928970341333, 2.0980560653345166, 0.10099676795161114, -0.27952966235596977, 0.17322261872598296, -0.33355784953857054, -0.37422665341806305, 0.6984148078475326, -0.696284917958808, 0.7795210099432548, 0.3748432099762908, -0.6241012437110319, -0.7636576046457033, 0.043575643891619276, -1.040008520360366, 0.4244015763588787, 0.4786870209080289, -0.3841254447901046, -0.09938026527541258, -1.3022635646063543, 0.3113347091145387, -0.5920976369410507, 0.6338165421774348, 0.6667928947088562, -0.12795994425047308, 1.3534692952505833, 1.0983924592396124, 0.6371001477941478, 0.4764029166305069, -0.9701219147351847, -1.43819285710038, -0.06918662183390711, -0.9293355123402423, -0.45529956311263103, -0.6561293781987138, -0.9311809158203144, -1.1726075300007404, 0.33550902585339804, -1.765464231244521, 7.0280408423290535, 1.5176550612446975, 0.3908335626043519, -1.2172336644470114, -1.867185751210133, -1.3610559067197923, 5.4632333231050465, -2.8965214643332824, 0.1266930126451831, -1.4831165560125346, 0.5353920866390409, -0.489624714577056, -1.6297952492709007, 0.6136657530896459, -2.9878689322701493, -1.2780703345974902, -0.2830565857504068, -1.0343294914578895, -1.6929333847703145, -2.2635278790749847, -1.3307651050611524, 0.9267214534383018, 0.6270479213705895, 0.2350075861664406, 1.3343863887206644, -1.8841018269997274, 0.3926306762759367, -0.442694598250054, -0.45491408803068484, -2.056683591399592, -1.4954776636538711, -1.7695496175370022, -2.0363710278643676, 1.079849157234487, -3.9526409224113492, 0.14244896684351377], \"type\": \"scatter\", \"uid\": \"64598c06-e35d-4d5e-8238-fd174e88a441\"}], {\"title\": \"coefficient with different alpha\", \"xaxis\": {\"title\": \"coefficient index\"}, \"yaxis\": {\"range\": [-25, 25], \"title\": \"coefficient magnitude\"}}, {\"showLink\": true, \"linkText\": \"Export to plot.ly\", \"plotlyServerURL\": \"https://plot.ly\"})});</script><script type=\"text/javascript\">window.addEventListener(\"resize\", function(){window._Plotly.Plots.resize(document.getElementById(\"def972c7-0787-4447-8245-10390499cd44\"));});</script>"
      ]
     },
     "metadata": {},
     "output_type": "display_data"
    }
   ],
   "source": [
    "# check all the possible marker shape here\n",
    "# https://plot.ly/python/reference/#scatter-marker-symbol\n",
    "\n",
    "hyper_params={\n",
    "    \"LinearRgression\": {\n",
    "        'param':0.0,\n",
    "        'marker': dict(\n",
    "            size = 10,\n",
    "            symbol=\"star-dot\"\n",
    "        )\n",
    "    },\n",
    "    \"Alpah01\": {\n",
    "        'param':0.1,\n",
    "        'marker': dict(\n",
    "            size=10,\n",
    "            symbol='triangle-down'\n",
    "        )\n",
    "    },\n",
    "    \"Alpha1\": {\n",
    "        'param':1.0,\n",
    "        'marker': dict(\n",
    "            size=10,\n",
    "            symbol='triangle-up'\n",
    "        )\n",
    "    },\n",
    "    \"Alpha10\": {\n",
    "        'param':10.0,\n",
    "        'marker': dict(\n",
    "            size=8,\n",
    "        )\n",
    "    }\n",
    "}\n",
    "\n",
    "data = []\n",
    "\n",
    "for name, opts in hyper_params.items():\n",
    "    rig = Ridge(alpha=opts['param']).fit(X_train, y_train)\n",
    "    coefs = rig.coef_\n",
    "    trace = go.Scatter(\n",
    "        x = np.array(range(0, len(coefs)-1)),\n",
    "        y = coefs,\n",
    "        mode = 'markers',\n",
    "        marker = opts['marker'],\n",
    "        name = name\n",
    "    )\n",
    "    data.append(trace)\n",
    "    \n",
    "layout = dict(\n",
    "    title = 'coefficient with different alpha',\n",
    "    xaxis = dict(title = 'coefficient index'),\n",
    "    yaxis = dict(title = 'coefficient magnitude', range=[-25, 25]),\n",
    ")\n",
    "fig = dict(data=data, layout=layout)\n",
    "iplot(fig)\n",
    "    "
   ]
  },
  {
   "cell_type": "code",
   "execution_count": 19,
   "metadata": {},
   "outputs": [
    {
     "data": {
      "image/png": "[encoded data removed]",
      "text/plain": [
       "<Figure size 432x288 with 1 Axes>"
      ]
     },
     "metadata": {
      "needs_background": "light"
     },
     "output_type": "display_data"
    }
   ],
   "source": [
    "mglearn.plots.plot_ridge_n_samples()"
   ]
  },
  {
   "cell_type": "code",
   "execution_count": 36,
   "metadata": {},
   "outputs": [
    {
     "name": "stdout",
     "output_type": "stream",
     "text": [
      "506\n"
     ]
    },
    {
     "data": {
      "application/vnd.plotly.v1+json": {
       "config": {
        "linkText": "Export to plot.ly",
        "plotlyServerURL": "https://plot.ly",
        "showLink": true
       },
       "data": [
        {
         "line": {
          "dash": "dot",
          "width": 4
         },
         "name": "ridge alpha1 training set",
         "type": "scatter",
         "uid": "abee83e1-c33f-45e1-b3e5-659726b0a329",
         "x": [
          100,
          150,
          200,
          250,
          300,
          350,
          400,
          450,
          500
         ],
         "y": [
          0.8699159870926985,
          0.8664115799226357,
          0.8725545844402273,
          0.8730750734779752,
          0.9138613021078562,
          0.9044283289887388,
          0.881623801662384,
          0.888225956430552,
          0.8731652251571871
         ]
        },
        {
         "mode": "lines+markers",
         "name": "ridge alpha1 test set",
         "type": "scatter",
         "uid": "ba704bce-64ce-4302-8572-32a0b4776bb3",
         "x": [
          100,
          150,
          200,
          250,
          300,
          350,
          400,
          450,
          500
         ],
         "y": [
          0.7732822940404709,
          0.7482525985501649,
          0.8264927656206724,
          0.8153840316709413,
          0.8421851402125108,
          0.881241792065594,
          0.6737039554348909,
          0.7079467425963935,
          0.7812124787764244
         ]
        },
        {
         "line": {
          "dash": "dot",
          "width": 4
         },
         "name": "linear regression training set",
         "type": "scatter",
         "uid": "8a12e2e7-d3ba-49aa-bd9e-66599ef12882",
         "x": [
          100,
          150,
          200,
          250,
          300,
          350,
          400,
          450,
          500
         ],
         "y": [
          1,
          0.9958893578005905,
          0.9896145957365772,
          0.9798092532520105,
          0.9764608256975783,
          0.9716162479847722,
          0.9650792824584798,
          0.9529366294114091,
          0.9457586007484631
         ]
        },
        {
         "mode": "lines+markers",
         "name": "linear regression test set",
         "type": "scatter",
         "uid": "f4b1a327-2f17-409c-97bd-3482b382a33e",
         "x": [
          100,
          150,
          200,
          250,
          300,
          350,
          400,
          450,
          500
         ],
         "y": [
          -132.5347406134175,
          -794.7710537678539,
          0.29796935437978866,
          -0.20187965454474366,
          0.8279803272912747,
          0.8406640837357782,
          0.2545946030328179,
          0.5842913017098548,
          0.5574955647059103
         ]
        }
       ],
       "layout": {
        "title": "Different dataset size performance",
        "xaxis": {
         "title": "dataset size"
        },
        "yaxis": {
         "range": [
          0,
          1
         ],
         "title": "Score(R2)"
        }
       }
      },
      "text/html": [
       "<div id=\"ca78fc1d-cf6e-4496-92f5-cfb3faebd761\" style=\"height: 525px; width: 100%;\" class=\"plotly-graph-div\"></div><script type=\"text/javascript\">require([\"plotly\"], function(Plotly) { window.PLOTLYENV=window.PLOTLYENV || {};window.PLOTLYENV.BASE_URL=\"https://plot.ly\";Plotly.newPlot(\"ca78fc1d-cf6e-4496-92f5-cfb3faebd761\", [{\"line\": {\"dash\": \"dot\", \"width\": 4}, \"name\": \"ridge alpha1 training set\", \"x\": [100, 150, 200, 250, 300, 350, 400, 450, 500], \"y\": [0.8699159870926985, 0.8664115799226357, 0.8725545844402273, 0.8730750734779752, 0.9138613021078562, 0.9044283289887388, 0.881623801662384, 0.888225956430552, 0.8731652251571871], \"type\": \"scatter\", \"uid\": \"a712957c-d378-46db-a0ce-881dc04d3d68\"}, {\"mode\": \"lines+markers\", \"name\": \"ridge alpha1 test set\", \"x\": [100, 150, 200, 250, 300, 350, 400, 450, 500], \"y\": [0.7732822940404709, 0.7482525985501649, 0.8264927656206724, 0.8153840316709413, 0.8421851402125108, 0.881241792065594, 0.6737039554348909, 0.7079467425963935, 0.7812124787764244], \"type\": \"scatter\", \"uid\": \"2bd5b618-3fa4-4635-a080-458db4f9d1d5\"}, {\"line\": {\"dash\": \"dot\", \"width\": 4}, \"name\": \"linear regression training set\", \"x\": [100, 150, 200, 250, 300, 350, 400, 450, 500], \"y\": [1.0, 0.9958893578005905, 0.9896145957365772, 0.9798092532520105, 0.9764608256975783, 0.9716162479847722, 0.9650792824584798, 0.9529366294114091, 0.9457586007484631], \"type\": \"scatter\", \"uid\": \"07be3822-efcf-466d-bd27-6b5e7172d2aa\"}, {\"mode\": \"lines+markers\", \"name\": \"linear regression test set\", \"x\": [100, 150, 200, 250, 300, 350, 400, 450, 500], \"y\": [-132.5347406134175, -794.7710537678539, 0.29796935437978866, -0.20187965454474366, 0.8279803272912747, 0.8406640837357782, 0.2545946030328179, 0.5842913017098548, 0.5574955647059103], \"type\": \"scatter\", \"uid\": \"5facf871-5cdc-434b-99f8-d20bb774a803\"}], {\"title\": \"Different dataset size performance\", \"xaxis\": {\"title\": \"dataset size\"}, \"yaxis\": {\"range\": [0, 1], \"title\": \"Score(R2)\"}}, {\"showLink\": true, \"linkText\": \"Export to plot.ly\", \"plotlyServerURL\": \"https://plot.ly\"})});</script><script type=\"text/javascript\">window.addEventListener(\"resize\", function(){window._Plotly.Plots.resize(document.getElementById(\"ca78fc1d-cf6e-4496-92f5-cfb3faebd761\"));});</script>"
      ],
      "text/vnd.plotly.v1+html": [
       "<div id=\"ca78fc1d-cf6e-4496-92f5-cfb3faebd761\" style=\"height: 525px; width: 100%;\" class=\"plotly-graph-div\"></div><script type=\"text/javascript\">require([\"plotly\"], function(Plotly) { window.PLOTLYENV=window.PLOTLYENV || {};window.PLOTLYENV.BASE_URL=\"https://plot.ly\";Plotly.newPlot(\"ca78fc1d-cf6e-4496-92f5-cfb3faebd761\", [{\"line\": {\"dash\": \"dot\", \"width\": 4}, \"name\": \"ridge alpha1 training set\", \"x\": [100, 150, 200, 250, 300, 350, 400, 450, 500], \"y\": [0.8699159870926985, 0.8664115799226357, 0.8725545844402273, 0.8730750734779752, 0.9138613021078562, 0.9044283289887388, 0.881623801662384, 0.888225956430552, 0.8731652251571871], \"type\": \"scatter\", \"uid\": \"a712957c-d378-46db-a0ce-881dc04d3d68\"}, {\"mode\": \"lines+markers\", \"name\": \"ridge alpha1 test set\", \"x\": [100, 150, 200, 250, 300, 350, 400, 450, 500], \"y\": [0.7732822940404709, 0.7482525985501649, 0.8264927656206724, 0.8153840316709413, 0.8421851402125108, 0.881241792065594, 0.6737039554348909, 0.7079467425963935, 0.7812124787764244], \"type\": \"scatter\", \"uid\": \"2bd5b618-3fa4-4635-a080-458db4f9d1d5\"}, {\"line\": {\"dash\": \"dot\", \"width\": 4}, \"name\": \"linear regression training set\", \"x\": [100, 150, 200, 250, 300, 350, 400, 450, 500], \"y\": [1.0, 0.9958893578005905, 0.9896145957365772, 0.9798092532520105, 0.9764608256975783, 0.9716162479847722, 0.9650792824584798, 0.9529366294114091, 0.9457586007484631], \"type\": \"scatter\", \"uid\": \"07be3822-efcf-466d-bd27-6b5e7172d2aa\"}, {\"mode\": \"lines+markers\", \"name\": \"linear regression test set\", \"x\": [100, 150, 200, 250, 300, 350, 400, 450, 500], \"y\": [-132.5347406134175, -794.7710537678539, 0.29796935437978866, -0.20187965454474366, 0.8279803272912747, 0.8406640837357782, 0.2545946030328179, 0.5842913017098548, 0.5574955647059103], \"type\": \"scatter\", \"uid\": \"5facf871-5cdc-434b-99f8-d20bb774a803\"}], {\"title\": \"Different dataset size performance\", \"xaxis\": {\"title\": \"dataset size\"}, \"yaxis\": {\"range\": [0, 1], \"title\": \"Score(R2)\"}}, {\"showLink\": true, \"linkText\": \"Export to plot.ly\", \"plotlyServerURL\": \"https://plot.ly\"})});</script><script type=\"text/javascript\">window.addEventListener(\"resize\", function(){window._Plotly.Plots.resize(document.getElementById(\"ca78fc1d-cf6e-4496-92f5-cfb3faebd761\"));});</script>"
      ]
     },
     "metadata": {},
     "output_type": "display_data"
    }
   ],
   "source": [
    "training_set_size=[100, 150, 200, 250, 300, 350, 400, 450, 500]\n",
    "X,y = mglearn.datasets.load_extended_boston()\n",
    "print(len(X))\n",
    "ridge_training_score = []\n",
    "lr_training_score = []\n",
    "ridge_test_score = []\n",
    "lr_test_score = []\n",
    "for size in training_set_size:\n",
    "    X_partial = X[0:size]\n",
    "    y_partial = y[0:size]\n",
    "    X_train, X_test, y_train, y_test = train_test_split(X_partial, y_partial, random_state=0)\n",
    "    ridge = Ridge().fit(X_train, y_train)\n",
    "    lr = LinearRegression().fit(X_train, y_train)\n",
    "    ridge_training_score.append(ridge.score(X_train, y_train))\n",
    "    ridge_test_score.append(ridge.score(X_test, y_test))\n",
    "    lr_training_score.append(lr.score(X_train, y_train))\n",
    "    lr_test_score.append(lr.score(X_test, y_test))\n",
    "\n",
    "# Create traces\n",
    "trace0 = go.Scatter(\n",
    "    x = training_set_size,\n",
    "    y = ridge_training_score,\n",
    "    line = dict(\n",
    "        width = 4,\n",
    "        dash = 'dot'),\n",
    "    name = 'ridge alpha1 training set'\n",
    ")\n",
    "trace1 = go.Scatter(\n",
    "    x = training_set_size,\n",
    "    y = ridge_test_score,\n",
    "    mode = 'lines+markers',\n",
    "    name = 'ridge alpha1 test set'\n",
    ")\n",
    "trace2 = go.Scatter(\n",
    "    x = training_set_size,\n",
    "    y = lr_training_score,\n",
    "    line = dict(\n",
    "        width = 4,\n",
    "        dash = 'dot'),\n",
    "    name = 'linear regression training set'\n",
    ")\n",
    "trace3 = go.Scatter(\n",
    "    x = training_set_size,\n",
    "    y = lr_test_score,\n",
    "    mode = 'lines+markers',\n",
    "    name = 'linear regression test set'\n",
    ")\n",
    "\n",
    "data1 = [trace0, trace1, trace2, trace3]\n",
    "layout = dict(title = 'Different dataset size performance',\n",
    "          xaxis = dict(title = 'dataset size'),\n",
    "          yaxis = dict(title = 'Score(R2)', range=[0, 1]),\n",
    "          )\n",
    "\n",
    "fig = dict(data=data1, layout=layout)\n",
    "iplot(fig)\n"
   ]
  },
  {
   "cell_type": "code",
   "execution_count": null,
   "metadata": {},
   "outputs": [],
   "source": []
  }
 ],
 "metadata": {
  "kernelspec": {
   "display_name": "Python 3",
   "language": "python",
   "name": "python3"
  },
  "language_info": {
   "codemirror_mode": {
    "name": "ipython",
    "version": 3
   },
   "file_extension": ".py",
   "mimetype": "text/x-python",
   "name": "python",
   "nbconvert_exporter": "python",
   "pygments_lexer": "ipython3",
   "version": "3.7.0"
  }
 },
 "nbformat": 4,
 "nbformat_minor": 2
}
