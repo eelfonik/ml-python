{
 "cells": [
  {
   "cell_type": "code",
   "execution_count": 68,
   "metadata": {},
   "outputs": [
    {
     "name": "stdout",
     "output_type": "stream",
     "text": [
      "Python version: {} 3.7.0 (default, Oct  2 2018, 09:18:58) \n",
      "[Clang 10.0.0 (clang-1000.11.45.2)]\n",
      "pandas version: 0.23.4\n",
      "matplotlib version: 3.0.2\n",
      "NumPy version: 1.15.4\n",
      "SciPy version: 1.1.0\n",
      "IPython version: 7.2.0\n",
      "scikit-learn version: 0.20.1\n"
     ]
    }
   ],
   "source": [
    "import sys\n",
    "print(\"Python version: {}\", sys.version)\n",
    "\n",
    "import pandas as pd\n",
    "print(\"pandas version:\", pd.__version__)\n",
    "\n",
    "import matplotlib\n",
    "import matplotlib.pyplot as plt\n",
    "print(\"matplotlib version:\", matplotlib.__version__)\n",
    "\n",
    "import numpy as np\n",
    "print(\"NumPy version:\", np.__version__)\n",
    "\n",
    "import scipy as sp\n",
    "print(\"SciPy version:\", sp.__version__)\n",
    "\n",
    "import IPython\n",
    "print(\"IPython version:\", IPython.__version__)\n",
    "\n",
    "import sklearn\n",
    "print(\"scikit-learn version:\", sklearn.__version__)\n",
    "\n",
    "import mglearn"
   ]
  },
  {
   "cell_type": "code",
   "execution_count": 2,
   "metadata": {},
   "outputs": [
    {
     "name": "stdout",
     "output_type": "stream",
     "text": [
      "the first column of data [ 9.96346605 11.0329545  11.54155807  8.69289001  8.1062269   8.30988863\n",
      " 11.93027136  9.67284681  8.34810316  8.67494727  9.17748385 10.24028948\n",
      "  8.68937095  8.92229526  9.49123469  9.25694192  7.99815287  8.18378052\n",
      "  8.7337095   9.32298256 10.06393839  9.50048972  8.34468785  9.50169345\n",
      "  9.15072323 11.563957  ]\n",
      "X.shape: (26, 2)\n"
     ]
    },
    {
     "name": "stderr",
     "output_type": "stream",
     "text": [
      "/Users/jin/code-notes/ml-python/ml/lib/python3.7/site-packages/sklearn/utils/deprecation.py:77: DeprecationWarning: Function make_blobs is deprecated; Please import make_blobs directly from scikit-learn\n",
      "  warnings.warn(msg, category=DeprecationWarning)\n"
     ]
    },
    {
     "data": {
      "image/png": "[encoded data removed]",
      "text/plain": [
       "<Figure size 432x288 with 1 Axes>"
      ]
     },
     "metadata": {
      "needs_background": "light"
     },
     "output_type": "display_data"
    }
   ],
   "source": [
    "# generate dataset\n",
    "X, y = mglearn.datasets.make_forge()\n",
    "# plot dataset\n",
    "# What is this X[:, 0]?\n",
    "mglearn.discrete_scatter(X[:, 0], X[:, 1], y)\n",
    "print('the first column of data', X[:, 0])\n",
    "plt.legend([\"Class 0\", \"Class 1\"], loc=4)\n",
    "plt.xlabel(\"First feature\")\n",
    "plt.ylabel(\"Second feature\")\n",
    "print(\"X.shape:\", X.shape)"
   ]
  },
  {
   "cell_type": "code",
   "execution_count": 3,
   "metadata": {},
   "outputs": [
    {
     "data": {
      "text/plain": [
       "Text(0, 0.5, 'Taget')"
      ]
     },
     "execution_count": 3,
     "metadata": {},
     "output_type": "execute_result"
    },
    {
     "data": {
      "image/png": "[encoded data removed]",
      "text/plain": [
       "<Figure size 432x288 with 1 Axes>"
      ]
     },
     "metadata": {
      "needs_background": "light"
     },
     "output_type": "display_data"
    }
   ],
   "source": [
    "X, y = mglearn.datasets.make_wave(n_samples=40)\n",
    "plt.plot(X, y, 'o')\n",
    "plt.ylim(-3, 3)\n",
    "plt.xlabel(\"Feature\")\n",
    "plt.ylabel(\"Taget\")"
   ]
  },
  {
   "cell_type": "code",
   "execution_count": 4,
   "metadata": {
    "scrolled": false
   },
   "outputs": [
    {
     "name": "stdout",
     "output_type": "stream",
     "text": [
      "key: data value: [[1.799e+01 1.038e+01 1.228e+02 ... 2.654e-01 4.601e-01 1.189e-01]\n",
      " [2.057e+01 1.777e+01 1.329e+02 ... 1.860e-01 2.750e-01 8.902e-02]\n",
      " [1.969e+01 2.125e+01 1.300e+02 ... 2.430e-01 3.613e-01 8.758e-02]\n",
      " ...\n",
      " [1.660e+01 2.808e+01 1.083e+02 ... 1.418e-01 2.218e-01 7.820e-02]\n",
      " [2.060e+01 2.933e+01 1.401e+02 ... 2.650e-01 4.087e-01 1.240e-01]\n",
      " [7.760e+00 2.454e+01 4.792e+01 ... 0.000e+00 2.871e-01 7.039e-02]]\n",
      "key: target value: [0 0 0 0 0 0 0 0 0 0 0 0 0 0 0 0 0 0 0 1 1 1 0 0 0 0 0 0 0 0 0 0 0 0 0 0 0\n",
      " 1 0 0 0 0 0 0 0 0 1 0 1 1 1 1 1 0 0 1 0 0 1 1 1 1 0 1 0 0 1 1 1 1 0 1 0 0\n",
      " 1 0 1 0 0 1 1 1 0 0 1 0 0 0 1 1 1 0 1 1 0 0 1 1 1 0 0 1 1 1 1 0 1 1 0 1 1\n",
      " 1 1 1 1 1 1 0 0 0 1 0 0 1 1 1 0 0 1 0 1 0 0 1 0 0 1 1 0 1 1 0 1 1 1 1 0 1\n",
      " 1 1 1 1 1 1 1 1 0 1 1 1 1 0 0 1 0 1 1 0 0 1 1 0 0 1 1 1 1 0 1 1 0 0 0 1 0\n",
      " 1 0 1 1 1 0 1 1 0 0 1 0 0 0 0 1 0 0 0 1 0 1 0 1 1 0 1 0 0 0 0 1 1 0 0 1 1\n",
      " 1 0 1 1 1 1 1 0 0 1 1 0 1 1 0 0 1 0 1 1 1 1 0 1 1 1 1 1 0 1 0 0 0 0 0 0 0\n",
      " 0 0 0 0 0 0 0 1 1 1 1 1 1 0 1 0 1 1 0 1 1 0 1 0 0 1 1 1 1 1 1 1 1 1 1 1 1\n",
      " 1 0 1 1 0 1 0 1 1 1 1 1 1 1 1 1 1 1 1 1 1 0 1 1 1 0 1 0 1 1 1 1 0 0 0 1 1\n",
      " 1 1 0 1 0 1 0 1 1 1 0 1 1 1 1 1 1 1 0 0 0 1 1 1 1 1 1 1 1 1 1 1 0 0 1 0 0\n",
      " 0 1 0 0 1 1 1 1 1 0 1 1 1 1 1 0 1 1 1 0 1 1 0 0 1 1 1 1 1 1 0 1 1 1 1 1 1\n",
      " 1 0 1 1 1 1 1 0 1 1 0 1 1 1 1 1 1 1 1 1 1 1 1 0 1 0 0 1 0 1 1 1 1 1 0 1 1\n",
      " 0 1 0 1 1 0 1 0 1 1 1 1 1 1 1 1 0 0 1 1 1 1 1 1 0 1 1 1 1 1 1 1 1 1 1 0 1\n",
      " 1 1 1 1 1 1 0 1 0 1 1 0 1 1 1 1 1 0 0 1 0 1 0 1 1 1 1 1 0 1 1 0 1 0 1 0 0\n",
      " 1 1 1 0 1 1 1 1 1 1 1 1 1 1 1 0 1 0 0 1 1 1 1 1 1 1 1 1 1 1 1 1 1 1 1 1 1\n",
      " 1 1 1 1 1 1 1 0 0 0 0 0 0 1]\n",
      "key: target_names value: ['malignant' 'benign']\n",
      "key: DESCR value: .. _breast_cancer_dataset:\n",
      "\n",
      "Breast cancer wisconsin (diagnostic) dataset\n",
      "--------------------------------------------\n",
      "\n",
      "**Data Set Characteristics:**\n",
      "\n",
      "    :Number of Instances: 569\n",
      "\n",
      "    :Number of Attributes: 30 numeric, predictive attributes and the class\n",
      "\n",
      "    :Attribute Information:\n",
      "        - radius (mean of distances from center to points on the perimeter)\n",
      "        - texture (standard deviation of gray-scale values)\n",
      "        - perimeter\n",
      "        - area\n",
      "        - smoothness (local variation in radius lengths)\n",
      "        - compactness (perimeter^2 / area - 1.0)\n",
      "        - concavity (severity of concave portions of the contour)\n",
      "        - concave points (number of concave portions of the contour)\n",
      "        - symmetry \n",
      "        - fractal dimension (\"coastline approximation\" - 1)\n",
      "\n",
      "        The mean, standard error, and \"worst\" or largest (mean of the three\n",
      "        largest values) of these features were computed for each image,\n",
      "        resulting in 30 features.  For instance, field 3 is Mean Radius, field\n",
      "        13 is Radius SE, field 23 is Worst Radius.\n",
      "\n",
      "        - class:\n",
      "                - WDBC-Malignant\n",
      "                - WDBC-Benign\n",
      "\n",
      "    :Summary Statistics:\n",
      "\n",
      "    ===================================== ====== ======\n",
      "                                           Min    Max\n",
      "    ===================================== ====== ======\n",
      "    radius (mean):                        6.981  28.11\n",
      "    texture (mean):                       9.71   39.28\n",
      "    perimeter (mean):                     43.79  188.5\n",
      "    area (mean):                          143.5  2501.0\n",
      "    smoothness (mean):                    0.053  0.163\n",
      "    compactness (mean):                   0.019  0.345\n",
      "    concavity (mean):                     0.0    0.427\n",
      "    concave points (mean):                0.0    0.201\n",
      "    symmetry (mean):                      0.106  0.304\n",
      "    fractal dimension (mean):             0.05   0.097\n",
      "    radius (standard error):              0.112  2.873\n",
      "    texture (standard error):             0.36   4.885\n",
      "    perimeter (standard error):           0.757  21.98\n",
      "    area (standard error):                6.802  542.2\n",
      "    smoothness (standard error):          0.002  0.031\n",
      "    compactness (standard error):         0.002  0.135\n",
      "    concavity (standard error):           0.0    0.396\n",
      "    concave points (standard error):      0.0    0.053\n",
      "    symmetry (standard error):            0.008  0.079\n",
      "    fractal dimension (standard error):   0.001  0.03\n",
      "    radius (worst):                       7.93   36.04\n",
      "    texture (worst):                      12.02  49.54\n",
      "    perimeter (worst):                    50.41  251.2\n",
      "    area (worst):                         185.2  4254.0\n",
      "    smoothness (worst):                   0.071  0.223\n",
      "    compactness (worst):                  0.027  1.058\n",
      "    concavity (worst):                    0.0    1.252\n",
      "    concave points (worst):               0.0    0.291\n",
      "    symmetry (worst):                     0.156  0.664\n",
      "    fractal dimension (worst):            0.055  0.208\n",
      "    ===================================== ====== ======\n",
      "\n",
      "    :Missing Attribute Values: None\n",
      "\n",
      "    :Class Distribution: 212 - Malignant, 357 - Benign\n",
      "\n",
      "    :Creator:  Dr. William H. Wolberg, W. Nick Street, Olvi L. Mangasarian\n",
      "\n",
      "    :Donor: Nick Street\n",
      "\n",
      "    :Date: November, 1995\n",
      "\n",
      "This is a copy of UCI ML Breast Cancer Wisconsin (Diagnostic) datasets.\n",
      "https://goo.gl/U2Uwz2\n",
      "\n",
      "Features are computed from a digitized image of a fine needle\n",
      "aspirate (FNA) of a breast mass.  They describe\n",
      "characteristics of the cell nuclei present in the image.\n",
      "\n",
      "Separating plane described above was obtained using\n",
      "Multisurface Method-Tree (MSM-T) [K. P. Bennett, \"Decision Tree\n",
      "Construction Via Linear Programming.\" Proceedings of the 4th\n",
      "Midwest Artificial Intelligence and Cognitive Science Society,\n",
      "pp. 97-101, 1992], a classification method which uses linear\n",
      "programming to construct a decision tree.  Relevant features\n",
      "were selected using an exhaustive search in the space of 1-4\n",
      "features and 1-3 separating planes.\n",
      "\n",
      "The actual linear program used to obtain the separating plane\n",
      "in the 3-dimensional space is that described in:\n",
      "[K. P. Bennett and O. L. Mangasarian: \"Robust Linear\n",
      "Programming Discrimination of Two Linearly Inseparable Sets\",\n",
      "Optimization Methods and Software 1, 1992, 23-34].\n",
      "\n",
      "This database is also available through the UW CS ftp server:\n",
      "\n",
      "ftp ftp.cs.wisc.edu\n",
      "cd math-prog/cpo-dataset/machine-learn/WDBC/\n",
      "\n",
      ".. topic:: References\n",
      "\n",
      "   - W.N. Street, W.H. Wolberg and O.L. Mangasarian. Nuclear feature extraction \n",
      "     for breast tumor diagnosis. IS&T/SPIE 1993 International Symposium on \n",
      "     Electronic Imaging: Science and Technology, volume 1905, pages 861-870,\n",
      "     San Jose, CA, 1993.\n",
      "   - O.L. Mangasarian, W.N. Street and W.H. Wolberg. Breast cancer diagnosis and \n",
      "     prognosis via linear programming. Operations Research, 43(4), pages 570-577, \n",
      "     July-August 1995.\n",
      "   - W.H. Wolberg, W.N. Street, and O.L. Mangasarian. Machine learning techniques\n",
      "     to diagnose breast cancer from fine-needle aspirates. Cancer Letters 77 (1994) \n",
      "     163-171.\n",
      "key: feature_names value: ['mean radius' 'mean texture' 'mean perimeter' 'mean area'\n",
      " 'mean smoothness' 'mean compactness' 'mean concavity'\n",
      " 'mean concave points' 'mean symmetry' 'mean fractal dimension'\n",
      " 'radius error' 'texture error' 'perimeter error' 'area error'\n",
      " 'smoothness error' 'compactness error' 'concavity error'\n",
      " 'concave points error' 'symmetry error' 'fractal dimension error'\n",
      " 'worst radius' 'worst texture' 'worst perimeter' 'worst area'\n",
      " 'worst smoothness' 'worst compactness' 'worst concavity'\n",
      " 'worst concave points' 'worst symmetry' 'worst fractal dimension']\n",
      "key: filename value: /Users/jin/code-notes/ml-python/ml/lib/python3.7/site-packages/sklearn/datasets/data/breast_cancer.csv\n",
      "data shape (569, 30)\n"
     ]
    }
   ],
   "source": [
    "from sklearn.datasets import load_breast_cancer\n",
    "cancer = load_breast_cancer()\n",
    "for k, v in cancer.items():\n",
    "    print('key:', k, 'value:', v)\n",
    "print('data shape', cancer.data.shape)"
   ]
  },
  {
   "cell_type": "code",
   "execution_count": 5,
   "metadata": {},
   "outputs": [
    {
     "name": "stdout",
     "output_type": "stream",
     "text": [
      "target value [212 357]\n",
      "target names ['malignant' 'benign']\n",
      "malignant 212\n",
      "benign 357\n"
     ]
    }
   ],
   "source": [
    "print('target value', np.bincount(cancer.target))\n",
    "print('target names', cancer.target_names)\n",
    "for n, v in zip(cancer.target_names, np.bincount(cancer.target)):\n",
    "    print(n, v)"
   ]
  },
  {
   "cell_type": "code",
   "execution_count": 6,
   "metadata": {},
   "outputs": [
    {
     "name": "stdout",
     "output_type": "stream",
     "text": [
      "dataset keys:  dict_keys(['data', 'target', 'feature_names', 'DESCR', 'filename'])\n",
      "boston data shape (506, 13)\n"
     ]
    }
   ],
   "source": [
    "from sklearn.datasets import load_boston\n",
    "boston = load_boston()\n",
    "print('dataset keys: ', boston.keys())\n",
    "print('boston data shape', boston.data.shape)"
   ]
  },
  {
   "cell_type": "code",
   "execution_count": 7,
   "metadata": {
    "scrolled": false
   },
   "outputs": [
    {
     "name": "stdout",
     "output_type": "stream",
     "text": [
      "extended feature shape (506, 104)\n",
      "first 1:  [[0.         0.18       0.06781525 0.         0.31481481 0.57750527\n",
      "  0.64160659 0.26920314 0.         0.20801527 0.28723404 1.\n",
      "  0.08967991 0.         0.         0.         0.         0.\n",
      "  0.         0.         0.         0.         0.         0.\n",
      "  0.         0.         0.0324     0.01220674 0.         0.05666667\n",
      "  0.10395095 0.11548919 0.04845657 0.         0.03744275 0.05170213\n",
      "  0.18       0.01614238 0.00459891 0.         0.02134925 0.03916366\n",
      "  0.04351071 0.01825608 0.         0.01410661 0.01947885 0.06781525\n",
      "  0.00608167 0.         0.         0.         0.         0.\n",
      "  0.         0.         0.         0.         0.         0.09910837\n",
      "  0.18180721 0.20198726 0.08474914 0.         0.06548629 0.09042553\n",
      "  0.31481481 0.02823256 0.33351234 0.37053119 0.15546623 0.\n",
      "  0.12012991 0.16587917 0.57750527 0.05179062 0.41165902 0.17272251\n",
      "  0.         0.13346397 0.18429125 0.64160659 0.05753922 0.07247033\n",
      "  0.         0.05599836 0.07732431 0.26920314 0.02414211 0.\n",
      "  0.         0.         0.         0.         0.04327035 0.05974907\n",
      "  0.20801527 0.01865479 0.0825034  0.28723404 0.02575912 1.\n",
      "  0.08967991 0.00804249]]\n"
     ]
    }
   ],
   "source": [
    "X, y = mglearn.datasets.load_extended_boston()\n",
    "print('extended feature shape', X.shape)\n",
    "print('first 1: ', X[0:1])"
   ]
  },
  {
   "cell_type": "code",
   "execution_count": 8,
   "metadata": {},
   "outputs": [
    {
     "name": "stderr",
     "output_type": "stream",
     "text": [
      "/Users/jin/code-notes/ml-python/ml/lib/python3.7/site-packages/sklearn/utils/deprecation.py:77: DeprecationWarning: Function make_blobs is deprecated; Please import make_blobs directly from scikit-learn\n",
      "  warnings.warn(msg, category=DeprecationWarning)\n"
     ]
    },
    {
     "data": {
      "image/png": "[encoded data removed]",
      "text/plain": [
       "<Figure size 432x288 with 1 Axes>"
      ]
     },
     "metadata": {
      "needs_background": "light"
     },
     "output_type": "display_data"
    }
   ],
   "source": [
    "mglearn.plots.plot_knn_classification(n_neighbors=3)"
   ]
  },
  {
   "cell_type": "code",
   "execution_count": 115,
   "metadata": {},
   "outputs": [
    {
     "name": "stderr",
     "output_type": "stream",
     "text": [
      "/Users/jin/code-notes/ml-python/ml/lib/python3.7/site-packages/sklearn/utils/deprecation.py:77: DeprecationWarning:\n",
      "\n",
      "Function make_blobs is deprecated; Please import make_blobs directly from scikit-learn\n",
      "\n"
     ]
    },
    {
     "ename": "TypeError",
     "evalue": "'KNeighborsClassifier' object is not iterable",
     "output_type": "error",
     "traceback": [
      "\u001b[0;31m---------------------------------------------------------------------------\u001b[0m",
      "\u001b[0;31mTypeError\u001b[0m                                 Traceback (most recent call last)",
      "\u001b[0;32m<ipython-input-115-7b316dd8fbc9>\u001b[0m in \u001b[0;36m<module>\u001b[0;34m\u001b[0m\n\u001b[1;32m     14\u001b[0m \u001b[0;34m\u001b[0m\u001b[0m\n\u001b[1;32m     15\u001b[0m \u001b[0;34m\u001b[0m\u001b[0m\n\u001b[0;32m---> 16\u001b[0;31m \u001b[0mget_all_with_model\u001b[0m\u001b[0;34m(\u001b[0m\u001b[0mX_train\u001b[0m\u001b[0;34m,\u001b[0m \u001b[0mX_test\u001b[0m\u001b[0;34m,\u001b[0m \u001b[0my_train\u001b[0m\u001b[0;34m,\u001b[0m \u001b[0my_test\u001b[0m\u001b[0;34m,\u001b[0m \u001b[0;32mlambda\u001b[0m \u001b[0mparam\u001b[0m\u001b[0;34m:\u001b[0m \u001b[0mKNeighborsClassifier\u001b[0m\u001b[0;34m(\u001b[0m\u001b[0mn_neighbors\u001b[0m\u001b[0;34m=\u001b[0m\u001b[0mparam\u001b[0m\u001b[0;34m)\u001b[0m\u001b[0;34m)\u001b[0m\u001b[0;34m\u001b[0m\u001b[0m\n\u001b[0m\u001b[1;32m     17\u001b[0m \u001b[0;34m\u001b[0m\u001b[0m\n",
      "\u001b[0;32m<ipython-input-115-7b316dd8fbc9>\u001b[0m in \u001b[0;36mget_all_with_model\u001b[0;34m(X_train, X_test, y_train, y_test, model_func, hyper_params)\u001b[0m\n\u001b[1;32m      3\u001b[0m         \u001b[0mmodel\u001b[0m\u001b[0;34m=\u001b[0m\u001b[0mmodel_func\u001b[0m\u001b[0;34m(\u001b[0m\u001b[0mparam\u001b[0m\u001b[0;34m)\u001b[0m\u001b[0;34m\u001b[0m\u001b[0m\n\u001b[1;32m      4\u001b[0m         \u001b[0mmodel\u001b[0m\u001b[0;34m.\u001b[0m\u001b[0mfit\u001b[0m\u001b[0;34m(\u001b[0m\u001b[0mX_train\u001b[0m\u001b[0;34m,\u001b[0m \u001b[0my_train\u001b[0m\u001b[0;34m)\u001b[0m\u001b[0;34m\u001b[0m\u001b[0m\n\u001b[0;32m----> 5\u001b[0;31m         \u001b[0;32mfor\u001b[0m \u001b[0mk\u001b[0m \u001b[0;32min\u001b[0m \u001b[0mmodel\u001b[0m\u001b[0;34m:\u001b[0m\u001b[0;34m\u001b[0m\u001b[0m\n\u001b[0m\u001b[1;32m      6\u001b[0m                 \u001b[0mprint\u001b[0m\u001b[0;34m(\u001b[0m\u001b[0mk\u001b[0m\u001b[0;34m)\u001b[0m\u001b[0;34m\u001b[0m\u001b[0m\n\u001b[1;32m      7\u001b[0m \u001b[0;34m\u001b[0m\u001b[0m\n",
      "\u001b[0;31mTypeError\u001b[0m: 'KNeighborsClassifier' object is not iterable"
     ]
    }
   ],
   "source": [
    "def get_all_with_model(X_train, X_test, y_train, y_test, model_func, hyper_params=np.array(range(1,11))):\n",
    "    for param in hyper_params:\n",
    "        model=model_func(param)\n",
    "        model.fit(X_train, y_train)\n",
    "        for k in model:\n",
    "                print(k)\n",
    "        \n",
    "from sklearn.model_selection import train_test_split\n",
    "X, y = mglearn.datasets.make_forge()\n",
    "\n",
    "X_train, X_test, y_train, y_test = train_test_split(X, y, stratify=y, random_state=8)\n",
    "\n",
    "from sklearn.neighbors import KNeighborsClassifier\n",
    "\n",
    "\n",
    "get_all_with_model(X_train, X_test, y_train, y_test, lambda param: KNeighborsClassifier(n_neighbors=param))\n",
    "        "
   ]
  },
  {
   "cell_type": "code",
   "execution_count": 41,
   "metadata": {},
   "outputs": [],
   "source": [
    "\n",
    "def plot_accuracy(X_train, X_test, y_train, y_test, model_func, hyper_params=range(1,11)):\n",
    "    training_accuracy=[]\n",
    "    test_accuracy=[]\n",
    "\n",
    "    for param in hyper_params:\n",
    "        model=model_func(param)\n",
    "        model.fit(X_train, y_train)\n",
    "        trainig_score = model.score(X_train, y_train)\n",
    "        test_score = model.score(X_test, y_test)\n",
    "        training_accuracy.append(trainig_score)\n",
    "        test_accuracy.append(test_score)\n",
    "\n",
    "    plt.plot(hyper_params, training_accuracy, label=\"training accuracy\")\n",
    "    plt.plot(hyper_params, test_accuracy, label=\"test accuracy\")\n",
    "    plt.ylabel(\"Accuracy\")\n",
    "    plt.xlabel(\"hyper_param\")\n",
    "    plt.legend()\n",
    "    "
   ]
  },
  {
   "cell_type": "code",
   "execution_count": 100,
   "metadata": {},
   "outputs": [
    {
     "data": {
      "text/html": [
       "<script type=\"text/javascript\">window.PlotlyConfig = {MathJaxConfig: 'local'};</script><script type=\"text/javascript\">if (window.MathJax) {MathJax.Hub.Config({SVG: {font: \"STIX-Web\"}});}</script><script>requirejs.config({paths: { 'plotly': ['https://cdn.plot.ly/plotly-latest.min']},});if(!window._Plotly) {require(['plotly'],function(plotly) {window._Plotly=plotly;});}</script>"
      ],
      "text/vnd.plotly.v1+html": [
       "<script type=\"text/javascript\">window.PlotlyConfig = {MathJaxConfig: 'local'};</script><script type=\"text/javascript\">if (window.MathJax) {MathJax.Hub.Config({SVG: {font: \"STIX-Web\"}});}</script><script>requirejs.config({paths: { 'plotly': ['https://cdn.plot.ly/plotly-latest.min']},});if(!window._Plotly) {require(['plotly'],function(plotly) {window._Plotly=plotly;});}</script>"
      ]
     },
     "metadata": {},
     "output_type": "display_data"
    }
   ],
   "source": [
    "import plotly.graph_objs as go\n",
    "from plotly.offline import download_plotlyjs, init_notebook_mode, plot, iplot\n",
    "\n",
    "import altair as alt\n",
    "\n",
    "init_notebook_mode(connected=True)\n",
    "\n",
    "def plot_accuracy_interactive(X_train, X_test, y_train, y_test, model_func, hyper_params=np.array(range(1,11))):\n",
    "    training_accuracy=[]\n",
    "    test_accuracy=[]\n",
    "\n",
    "    for param in hyper_params:\n",
    "        model=model_func(param)\n",
    "        model.fit(X_train, y_train)\n",
    "        trainig_score = model.score(X_train, y_train)\n",
    "        test_score = model.score(X_test, y_test)\n",
    "        training_accuracy.append(trainig_score)\n",
    "        test_accuracy.append(test_score)\n",
    "    \n",
    "    # Create traces\n",
    "    trace0 = go.Scatter(\n",
    "        x = hyper_params,\n",
    "        y = training_accuracy,\n",
    "        mode = 'lines+markers',\n",
    "        name = 'training accuracy'\n",
    "    )\n",
    "    trace1 = go.Scatter(\n",
    "        x = hyper_params,\n",
    "        y = test_accuracy,\n",
    "        mode = 'lines+markers',\n",
    "        name = 'test accuracy'\n",
    "    )\n",
    "    \n",
    "    data1 = [trace0, trace1]\n",
    "    layout = dict(title = 'Comparasion of different hyper params performance',\n",
    "              xaxis = dict(title = 'Hyper Params values'),\n",
    "              yaxis = dict(title = 'Accuracy'),\n",
    "              )\n",
    "\n",
    "    fig = dict(data=data1, layout=layout)\n",
    "    iplot(fig)\n",
    "    \n",
    "#     params = np.array(hyper_params)\n",
    "#     train_acc = np.array(training_accuracy)\n",
    "#     test_acc = np.array(test_accuracy)\n",
    "#     data = pd.DataFrame(data=np.transpose(np.array([params, train_acc, test_acc])), columns=['hyper_param', 'trainig_accuracy', 'test_accuracy'])\n",
    "#     print(data)\n",
    "    "
   ]
  },
  {
   "cell_type": "code",
   "execution_count": 118,
   "metadata": {},
   "outputs": [
    {
     "name": "stdout",
     "output_type": "stream",
     "text": [
      "[1 0 1 0 0 1 1 0 1 1 1 1 0 0 1 1 1 0 0 1 0 0 0 0 1 0]\n"
     ]
    },
    {
     "name": "stderr",
     "output_type": "stream",
     "text": [
      "/Users/jin/code-notes/ml-python/ml/lib/python3.7/site-packages/sklearn/utils/deprecation.py:77: DeprecationWarning:\n",
      "\n",
      "Function make_blobs is deprecated; Please import make_blobs directly from scikit-learn\n",
      "\n"
     ]
    },
    {
     "data": {
      "application/vnd.plotly.v1+json": {
       "config": {
        "linkText": "Export to plot.ly",
        "plotlyServerURL": "https://plot.ly",
        "showLink": true
       },
       "data": [
        {
         "mode": "lines+markers",
         "name": "training accuracy",
         "type": "scatter",
         "uid": "05324882-bf22-4052-a4cc-5971c610c0c7",
         "x": [
          1,
          2,
          3,
          4,
          5,
          6,
          7,
          8,
          9,
          10
         ],
         "y": [
          1,
          0.8947368421052632,
          0.8947368421052632,
          0.8947368421052632,
          0.8947368421052632,
          0.8947368421052632,
          0.8947368421052632,
          0.8947368421052632,
          0.8947368421052632,
          0.8947368421052632
         ]
        },
        {
         "mode": "lines+markers",
         "name": "test accuracy",
         "type": "scatter",
         "uid": "814a10fa-14ef-4b29-ab6f-e349fe5eefb7",
         "x": [
          1,
          2,
          3,
          4,
          5,
          6,
          7,
          8,
          9,
          10
         ],
         "y": [
          1,
          0.8571428571428571,
          1,
          1,
          1,
          1,
          1,
          1,
          1,
          1
         ]
        }
       ],
       "layout": {
        "title": "Comparasion of different hyper params performance",
        "xaxis": {
         "title": "Hyper Params values"
        },
        "yaxis": {
         "title": "Accuracy"
        }
       }
      },
      "text/html": [
       "<div id=\"9b0e0a98-e104-4ded-a5d6-c0b151c2cd0b\" style=\"height: 525px; width: 100%;\" class=\"plotly-graph-div\"></div><script type=\"text/javascript\">require([\"plotly\"], function(Plotly) { window.PLOTLYENV=window.PLOTLYENV || {};window.PLOTLYENV.BASE_URL=\"https://plot.ly\";Plotly.newPlot(\"9b0e0a98-e104-4ded-a5d6-c0b151c2cd0b\", [{\"mode\": \"lines+markers\", \"name\": \"training accuracy\", \"x\": [1, 2, 3, 4, 5, 6, 7, 8, 9, 10], \"y\": [1.0, 0.8947368421052632, 0.8947368421052632, 0.8947368421052632, 0.8947368421052632, 0.8947368421052632, 0.8947368421052632, 0.8947368421052632, 0.8947368421052632, 0.8947368421052632], \"type\": \"scatter\", \"uid\": \"e714ebad-b289-48ea-936b-ba5ffbd7b47a\"}, {\"mode\": \"lines+markers\", \"name\": \"test accuracy\", \"x\": [1, 2, 3, 4, 5, 6, 7, 8, 9, 10], \"y\": [1.0, 0.8571428571428571, 1.0, 1.0, 1.0, 1.0, 1.0, 1.0, 1.0, 1.0], \"type\": \"scatter\", \"uid\": \"cf5d8b38-011c-411b-9218-5a6fa27cde2a\"}], {\"title\": \"Comparasion of different hyper params performance\", \"xaxis\": {\"title\": \"Hyper Params values\"}, \"yaxis\": {\"title\": \"Accuracy\"}}, {\"showLink\": true, \"linkText\": \"Export to plot.ly\", \"plotlyServerURL\": \"https://plot.ly\"})});</script><script type=\"text/javascript\">window.addEventListener(\"resize\", function(){window._Plotly.Plots.resize(document.getElementById(\"9b0e0a98-e104-4ded-a5d6-c0b151c2cd0b\"));});</script>"
      ],
      "text/vnd.plotly.v1+html": [
       "<div id=\"9b0e0a98-e104-4ded-a5d6-c0b151c2cd0b\" style=\"height: 525px; width: 100%;\" class=\"plotly-graph-div\"></div><script type=\"text/javascript\">require([\"plotly\"], function(Plotly) { window.PLOTLYENV=window.PLOTLYENV || {};window.PLOTLYENV.BASE_URL=\"https://plot.ly\";Plotly.newPlot(\"9b0e0a98-e104-4ded-a5d6-c0b151c2cd0b\", [{\"mode\": \"lines+markers\", \"name\": \"training accuracy\", \"x\": [1, 2, 3, 4, 5, 6, 7, 8, 9, 10], \"y\": [1.0, 0.8947368421052632, 0.8947368421052632, 0.8947368421052632, 0.8947368421052632, 0.8947368421052632, 0.8947368421052632, 0.8947368421052632, 0.8947368421052632, 0.8947368421052632], \"type\": \"scatter\", \"uid\": \"e714ebad-b289-48ea-936b-ba5ffbd7b47a\"}, {\"mode\": \"lines+markers\", \"name\": \"test accuracy\", \"x\": [1, 2, 3, 4, 5, 6, 7, 8, 9, 10], \"y\": [1.0, 0.8571428571428571, 1.0, 1.0, 1.0, 1.0, 1.0, 1.0, 1.0, 1.0], \"type\": \"scatter\", \"uid\": \"cf5d8b38-011c-411b-9218-5a6fa27cde2a\"}], {\"title\": \"Comparasion of different hyper params performance\", \"xaxis\": {\"title\": \"Hyper Params values\"}, \"yaxis\": {\"title\": \"Accuracy\"}}, {\"showLink\": true, \"linkText\": \"Export to plot.ly\", \"plotlyServerURL\": \"https://plot.ly\"})});</script><script type=\"text/javascript\">window.addEventListener(\"resize\", function(){window._Plotly.Plots.resize(document.getElementById(\"9b0e0a98-e104-4ded-a5d6-c0b151c2cd0b\"));});</script>"
      ]
     },
     "metadata": {},
     "output_type": "display_data"
    }
   ],
   "source": [
    "from sklearn.model_selection import train_test_split\n",
    "X, y = mglearn.datasets.make_forge()\n",
    "print(y)\n",
    "\n",
    "X_train, X_test, y_train, y_test = train_test_split(X, y, stratify=y, random_state=8)\n",
    "\n",
    "from sklearn.neighbors import KNeighborsClassifier\n",
    "\n",
    "# plot_accuracy(X_train, X_test, y_train, y_test, lambda param: KNeighborsClassifier(n_neighbors=param))\n",
    "plot_accuracy_interactive(X_train, X_test, y_train, y_test, lambda param: KNeighborsClassifier(n_neighbors=param))\n",
    "\n"
   ]
  },
  {
   "cell_type": "code",
   "execution_count": 117,
   "metadata": {},
   "outputs": [
    {
     "data": {
      "application/vnd.plotly.v1+json": {
       "config": {
        "linkText": "Export to plot.ly",
        "plotlyServerURL": "https://plot.ly",
        "showLink": true
       },
       "data": [
        {
         "mode": "lines+markers",
         "name": "training accuracy",
         "type": "scatter",
         "uid": "c71cb681-ede1-4326-9403-814bc54d4e8f",
         "x": [
          1,
          2,
          3,
          4,
          5,
          6,
          7,
          8,
          9,
          10
         ],
         "y": [
          1,
          0.9647887323943662,
          0.9436619718309859,
          0.9436619718309859,
          0.9366197183098591,
          0.9342723004694836,
          0.9389671361502347,
          0.9389671361502347,
          0.9342723004694836,
          0.931924882629108
         ]
        },
        {
         "mode": "lines+markers",
         "name": "test accuracy",
         "type": "scatter",
         "uid": "f1561d04-fbc9-4497-b0ef-74cba6ea83c9",
         "x": [
          1,
          2,
          3,
          4,
          5,
          6,
          7,
          8,
          9,
          10
         ],
         "y": [
          0.9300699300699301,
          0.916083916083916,
          0.951048951048951,
          0.958041958041958,
          0.9370629370629371,
          0.951048951048951,
          0.9230769230769231,
          0.9300699300699301,
          0.9230769230769231,
          0.9230769230769231
         ]
        }
       ],
       "layout": {
        "title": "Comparasion of different hyper params performance",
        "xaxis": {
         "title": "Hyper Params values"
        },
        "yaxis": {
         "title": "Accuracy"
        }
       }
      },
      "text/html": [
       "<div id=\"49bb6883-f261-48fa-a0c8-9fc755138e32\" style=\"height: 525px; width: 100%;\" class=\"plotly-graph-div\"></div><script type=\"text/javascript\">require([\"plotly\"], function(Plotly) { window.PLOTLYENV=window.PLOTLYENV || {};window.PLOTLYENV.BASE_URL=\"https://plot.ly\";Plotly.newPlot(\"49bb6883-f261-48fa-a0c8-9fc755138e32\", [{\"mode\": \"lines+markers\", \"name\": \"training accuracy\", \"x\": [1, 2, 3, 4, 5, 6, 7, 8, 9, 10], \"y\": [1.0, 0.9647887323943662, 0.9436619718309859, 0.9436619718309859, 0.9366197183098591, 0.9342723004694836, 0.9389671361502347, 0.9389671361502347, 0.9342723004694836, 0.931924882629108], \"type\": \"scatter\", \"uid\": \"866a20d0-df69-4c27-969c-2c1bb105ab1d\"}, {\"mode\": \"lines+markers\", \"name\": \"test accuracy\", \"x\": [1, 2, 3, 4, 5, 6, 7, 8, 9, 10], \"y\": [0.9300699300699301, 0.916083916083916, 0.951048951048951, 0.958041958041958, 0.9370629370629371, 0.951048951048951, 0.9230769230769231, 0.9300699300699301, 0.9230769230769231, 0.9230769230769231], \"type\": \"scatter\", \"uid\": \"756b1abb-c603-402d-b144-93425b9e6343\"}], {\"title\": \"Comparasion of different hyper params performance\", \"xaxis\": {\"title\": \"Hyper Params values\"}, \"yaxis\": {\"title\": \"Accuracy\"}}, {\"showLink\": true, \"linkText\": \"Export to plot.ly\", \"plotlyServerURL\": \"https://plot.ly\"})});</script><script type=\"text/javascript\">window.addEventListener(\"resize\", function(){window._Plotly.Plots.resize(document.getElementById(\"49bb6883-f261-48fa-a0c8-9fc755138e32\"));});</script>"
      ],
      "text/vnd.plotly.v1+html": [
       "<div id=\"49bb6883-f261-48fa-a0c8-9fc755138e32\" style=\"height: 525px; width: 100%;\" class=\"plotly-graph-div\"></div><script type=\"text/javascript\">require([\"plotly\"], function(Plotly) { window.PLOTLYENV=window.PLOTLYENV || {};window.PLOTLYENV.BASE_URL=\"https://plot.ly\";Plotly.newPlot(\"49bb6883-f261-48fa-a0c8-9fc755138e32\", [{\"mode\": \"lines+markers\", \"name\": \"training accuracy\", \"x\": [1, 2, 3, 4, 5, 6, 7, 8, 9, 10], \"y\": [1.0, 0.9647887323943662, 0.9436619718309859, 0.9436619718309859, 0.9366197183098591, 0.9342723004694836, 0.9389671361502347, 0.9389671361502347, 0.9342723004694836, 0.931924882629108], \"type\": \"scatter\", \"uid\": \"866a20d0-df69-4c27-969c-2c1bb105ab1d\"}, {\"mode\": \"lines+markers\", \"name\": \"test accuracy\", \"x\": [1, 2, 3, 4, 5, 6, 7, 8, 9, 10], \"y\": [0.9300699300699301, 0.916083916083916, 0.951048951048951, 0.958041958041958, 0.9370629370629371, 0.951048951048951, 0.9230769230769231, 0.9300699300699301, 0.9230769230769231, 0.9230769230769231], \"type\": \"scatter\", \"uid\": \"756b1abb-c603-402d-b144-93425b9e6343\"}], {\"title\": \"Comparasion of different hyper params performance\", \"xaxis\": {\"title\": \"Hyper Params values\"}, \"yaxis\": {\"title\": \"Accuracy\"}}, {\"showLink\": true, \"linkText\": \"Export to plot.ly\", \"plotlyServerURL\": \"https://plot.ly\"})});</script><script type=\"text/javascript\">window.addEventListener(\"resize\", function(){window._Plotly.Plots.resize(document.getElementById(\"49bb6883-f261-48fa-a0c8-9fc755138e32\"));});</script>"
      ]
     },
     "metadata": {},
     "output_type": "display_data"
    }
   ],
   "source": [
    "from sklearn.datasets import load_breast_cancer\n",
    "cancer = load_breast_cancer()\n",
    "\n",
    "# I don't set a fixed number for random_state here, as I don't mind it changes on every run\n",
    "# original in tutor is random_state=66\n",
    "X_train, X_test, y_train, y_test = train_test_split(cancer.data, cancer.target, stratify=cancer.target)\n",
    "# plot_accuracy(X_train, X_test, y_train, y_test, lambda param: KNeighborsClassifier(n_neighbors=param))\n",
    "\n",
    "plot_accuracy_interactive(X_train, X_test, y_train, y_test, lambda param: KNeighborsClassifier(n_neighbors=param))\n"
   ]
  },
  {
   "cell_type": "code",
   "execution_count": 119,
   "metadata": {},
   "outputs": [
    {
     "data": {
      "application/vnd.plotly.v1+json": {
       "config": {
        "linkText": "Export to plot.ly",
        "plotlyServerURL": "https://plot.ly",
        "showLink": true
       },
       "data": [
        {
         "mode": "lines+markers",
         "name": "training accuracy",
         "type": "scatter",
         "uid": "37f1f450-5175-4d4b-8668-5649f69155d7",
         "x": [
          1,
          2,
          3,
          4,
          5,
          6,
          7,
          8,
          9,
          10
         ],
         "y": [
          1,
          0.8489295178013407,
          0.8194343929538755,
          0.8168007715187524,
          0.7933627228318063,
          0.7871902291986861,
          0.787192898001129,
          0.7541918525127793,
          0.7283986168755594,
          0.7210974727340191
         ]
        },
        {
         "mode": "lines+markers",
         "name": "test accuracy",
         "type": "scatter",
         "uid": "03819da8-3f5e-4ba2-8401-af20019e494d",
         "x": [
          1,
          2,
          3,
          4,
          5,
          6,
          7,
          8,
          9,
          10
         ],
         "y": [
          0.3519867415115093,
          0.6557491875542131,
          0.8344172446249604,
          0.7704189018456431,
          0.7071381144011731,
          0.6963552119009186,
          0.6752134587675717,
          0.6788241385739405,
          0.6541236379533191,
          0.6381920637966467
         ]
        }
       ],
       "layout": {
        "title": "Comparasion of different hyper params performance",
        "xaxis": {
         "title": "Hyper Params values"
        },
        "yaxis": {
         "title": "Accuracy"
        }
       }
      },
      "text/html": [
       "<div id=\"f04c31aa-f9d3-4ca6-b58b-be731076e86a\" style=\"height: 525px; width: 100%;\" class=\"plotly-graph-div\"></div><script type=\"text/javascript\">require([\"plotly\"], function(Plotly) { window.PLOTLYENV=window.PLOTLYENV || {};window.PLOTLYENV.BASE_URL=\"https://plot.ly\";Plotly.newPlot(\"f04c31aa-f9d3-4ca6-b58b-be731076e86a\", [{\"mode\": \"lines+markers\", \"name\": \"training accuracy\", \"x\": [1, 2, 3, 4, 5, 6, 7, 8, 9, 10], \"y\": [1.0, 0.8489295178013407, 0.8194343929538755, 0.8168007715187524, 0.7933627228318063, 0.7871902291986861, 0.787192898001129, 0.7541918525127793, 0.7283986168755594, 0.7210974727340191], \"type\": \"scatter\", \"uid\": \"3d115f39-30a8-4455-8366-085d9f29e875\"}, {\"mode\": \"lines+markers\", \"name\": \"test accuracy\", \"x\": [1, 2, 3, 4, 5, 6, 7, 8, 9, 10], \"y\": [0.3519867415115093, 0.6557491875542131, 0.8344172446249604, 0.7704189018456431, 0.7071381144011731, 0.6963552119009186, 0.6752134587675717, 0.6788241385739405, 0.6541236379533191, 0.6381920637966467], \"type\": \"scatter\", \"uid\": \"64756667-f2ad-4f20-8548-bca518d46b73\"}], {\"title\": \"Comparasion of different hyper params performance\", \"xaxis\": {\"title\": \"Hyper Params values\"}, \"yaxis\": {\"title\": \"Accuracy\"}}, {\"showLink\": true, \"linkText\": \"Export to plot.ly\", \"plotlyServerURL\": \"https://plot.ly\"})});</script><script type=\"text/javascript\">window.addEventListener(\"resize\", function(){window._Plotly.Plots.resize(document.getElementById(\"f04c31aa-f9d3-4ca6-b58b-be731076e86a\"));});</script>"
      ],
      "text/vnd.plotly.v1+html": [
       "<div id=\"f04c31aa-f9d3-4ca6-b58b-be731076e86a\" style=\"height: 525px; width: 100%;\" class=\"plotly-graph-div\"></div><script type=\"text/javascript\">require([\"plotly\"], function(Plotly) { window.PLOTLYENV=window.PLOTLYENV || {};window.PLOTLYENV.BASE_URL=\"https://plot.ly\";Plotly.newPlot(\"f04c31aa-f9d3-4ca6-b58b-be731076e86a\", [{\"mode\": \"lines+markers\", \"name\": \"training accuracy\", \"x\": [1, 2, 3, 4, 5, 6, 7, 8, 9, 10], \"y\": [1.0, 0.8489295178013407, 0.8194343929538755, 0.8168007715187524, 0.7933627228318063, 0.7871902291986861, 0.787192898001129, 0.7541918525127793, 0.7283986168755594, 0.7210974727340191], \"type\": \"scatter\", \"uid\": \"3d115f39-30a8-4455-8366-085d9f29e875\"}, {\"mode\": \"lines+markers\", \"name\": \"test accuracy\", \"x\": [1, 2, 3, 4, 5, 6, 7, 8, 9, 10], \"y\": [0.3519867415115093, 0.6557491875542131, 0.8344172446249604, 0.7704189018456431, 0.7071381144011731, 0.6963552119009186, 0.6752134587675717, 0.6788241385739405, 0.6541236379533191, 0.6381920637966467], \"type\": \"scatter\", \"uid\": \"64756667-f2ad-4f20-8548-bca518d46b73\"}], {\"title\": \"Comparasion of different hyper params performance\", \"xaxis\": {\"title\": \"Hyper Params values\"}, \"yaxis\": {\"title\": \"Accuracy\"}}, {\"showLink\": true, \"linkText\": \"Export to plot.ly\", \"plotlyServerURL\": \"https://plot.ly\"})});</script><script type=\"text/javascript\">window.addEventListener(\"resize\", function(){window._Plotly.Plots.resize(document.getElementById(\"f04c31aa-f9d3-4ca6-b58b-be731076e86a\"));});</script>"
      ]
     },
     "metadata": {},
     "output_type": "display_data"
    }
   ],
   "source": [
    "X, y = mglearn.datasets.make_wave(n_samples=40)\n",
    "# split the wave dataset into a training and a test set\n",
    "X_train, X_test, y_train, y_test = train_test_split(X, y, random_state=0)\n",
    "\n",
    "from sklearn.neighbors import KNeighborsRegressor\n",
    "\n",
    "plot_accuracy_interactive(X_train, X_test, y_train, y_test, lambda param: KNeighborsRegressor(n_neighbors=param))"
   ]
  },
  {
   "cell_type": "code",
   "execution_count": 120,
   "metadata": {},
   "outputs": [
    {
     "name": "stdout",
     "output_type": "stream",
     "text": [
      "w[0]: 0.393906  b: -0.031804\n"
     ]
    },
    {
     "data": {
      "image/png": "[encoded data removed]",
      "text/plain": [
       "<Figure size 576x576 with 1 Axes>"
      ]
     },
     "metadata": {
      "needs_background": "light"
     },
     "output_type": "display_data"
    }
   ],
   "source": [
    "mglearn.plots.plot_linear_regression_wave()"
   ]
  },
  {
   "cell_type": "code",
   "execution_count": 121,
   "metadata": {},
   "outputs": [
    {
     "name": "stdout",
     "output_type": "stream",
     "text": [
      "weight (coefficient):  [0.39390555]\n",
      "bias (intercept):  -0.031804343026759746\n",
      "training set score 0.6700890315075756\n",
      "test set score 0.65933685968637\n"
     ]
    }
   ],
   "source": [
    "from sklearn.linear_model import LinearRegression\n",
    "X, y = mglearn.datasets.make_wave(n_samples=60)\n",
    "X_train, X_test, y_train, y_test = train_test_split(X, y, random_state=42)\n",
    "# Note no params needed for linear regression models\n",
    "lr = LinearRegression().fit(X_train, y_train)\n",
    "# what's inside the objects returned by LinearRegression ? \n",
    "print('weight (coefficient): ', lr.coef_)\n",
    "print('bias (intercept): ', lr.intercept_)\n",
    "\n",
    "# see, an underfitting here because the data is simple\n",
    "print('training set score', lr.score(X_train, y_train))\n",
    "print('test set score', lr.score(X_test, y_test))\n"
   ]
  },
  {
   "cell_type": "code",
   "execution_count": 122,
   "metadata": {},
   "outputs": [
    {
     "name": "stdout",
     "output_type": "stream",
     "text": [
      "training set score 0.9520519609032727\n",
      "test set score 0.6074721959665843\n"
     ]
    }
   ],
   "source": [
    "X,y = mglearn.datasets.load_extended_boston()\n",
    "X_train, X_test, y_train, y_test = train_test_split(X, y, random_state=0)\n",
    "lr = LinearRegression().fit(X_train, y_train)\n",
    "\n",
    "# with dataset has 103 features, we see an overfitting\n",
    "print('training set score', lr.score(X_train, y_train))\n",
    "print('test set score', lr.score(X_test, y_test))\n",
    "\n"
   ]
  },
  {
   "cell_type": "code",
   "execution_count": 123,
   "metadata": {
    "scrolled": false
   },
   "outputs": [
    {
     "name": "stdout",
     "output_type": "stream",
     "text": [
      "training set score 0.885796658517094\n",
      "test set score 0.7527683481744751\n"
     ]
    },
    {
     "data": {
      "application/vnd.plotly.v1+json": {
       "config": {
        "linkText": "Export to plot.ly",
        "plotlyServerURL": "https://plot.ly",
        "showLink": true
       },
       "data": [
        {
         "mode": "lines+markers",
         "name": "training accuracy",
         "type": "scatter",
         "uid": "3242039f-fbe1-41d4-9920-8ceaf398ec3b",
         "x": [
          0,
          0.01,
          0.02,
          0.03,
          0.04,
          0.05,
          0.06,
          0.07,
          0.08,
          0.09,
          0.1,
          0.3
         ],
         "y": [
          0.9512938345046076,
          0.9444599240824926,
          0.9406722346877623,
          0.9380926477091978,
          0.9360826368889383,
          0.9343998622870336,
          0.9329294684214202,
          0.9316087434884365,
          0.9303998852360562,
          0.9292783715109901,
          0.9282273685001986,
          0.9136488850790492
         ]
        },
        {
         "mode": "lines+markers",
         "name": "test accuracy",
         "type": "scatter",
         "uid": "01ed5297-af88-40d0-bc79-cfcb8fbd6929",
         "x": [
          0,
          0.01,
          0.02,
          0.03,
          0.04,
          0.05,
          0.06,
          0.07,
          0.08,
          0.09,
          0.1,
          0.3
         ],
         "y": [
          0.615222409848537,
          0.7022485939212748,
          0.733097558816274,
          0.7477903146585225,
          0.756201801346599,
          0.7615599966001556,
          0.7652093121516301,
          0.7678064266102625,
          0.7697098545071885,
          0.7711319984583881,
          0.7722067936479807,
          0.7732413227836928
         ]
        }
       ],
       "layout": {
        "title": "Comparasion of different hyper params performance",
        "xaxis": {
         "title": "Hyper Params values"
        },
        "yaxis": {
         "title": "Accuracy"
        }
       }
      },
      "text/html": [
       "<div id=\"f6281c7f-5390-47ea-b2a1-2fc233913837\" style=\"height: 525px; width: 100%;\" class=\"plotly-graph-div\"></div><script type=\"text/javascript\">require([\"plotly\"], function(Plotly) { window.PLOTLYENV=window.PLOTLYENV || {};window.PLOTLYENV.BASE_URL=\"https://plot.ly\";Plotly.newPlot(\"f6281c7f-5390-47ea-b2a1-2fc233913837\", [{\"mode\": \"lines+markers\", \"name\": \"training accuracy\", \"x\": [0.0, 0.01, 0.02, 0.03, 0.04, 0.05, 0.06, 0.07, 0.08, 0.09, 0.1, 0.3], \"y\": [0.9512938345046076, 0.9444599240824926, 0.9406722346877623, 0.9380926477091978, 0.9360826368889383, 0.9343998622870336, 0.9329294684214202, 0.9316087434884365, 0.9303998852360562, 0.9292783715109901, 0.9282273685001986, 0.9136488850790492], \"type\": \"scatter\", \"uid\": \"4ff0fdf8-4a98-489b-b272-4ab0393bb105\"}, {\"mode\": \"lines+markers\", \"name\": \"test accuracy\", \"x\": [0.0, 0.01, 0.02, 0.03, 0.04, 0.05, 0.06, 0.07, 0.08, 0.09, 0.1, 0.3], \"y\": [0.615222409848537, 0.7022485939212748, 0.733097558816274, 0.7477903146585225, 0.756201801346599, 0.7615599966001556, 0.7652093121516301, 0.7678064266102625, 0.7697098545071885, 0.7711319984583881, 0.7722067936479807, 0.7732413227836928], \"type\": \"scatter\", \"uid\": \"ef414daf-8e8a-4c07-abb0-d7ae7dd1a832\"}], {\"title\": \"Comparasion of different hyper params performance\", \"xaxis\": {\"title\": \"Hyper Params values\"}, \"yaxis\": {\"title\": \"Accuracy\"}}, {\"showLink\": true, \"linkText\": \"Export to plot.ly\", \"plotlyServerURL\": \"https://plot.ly\"})});</script><script type=\"text/javascript\">window.addEventListener(\"resize\", function(){window._Plotly.Plots.resize(document.getElementById(\"f6281c7f-5390-47ea-b2a1-2fc233913837\"));});</script>"
      ],
      "text/vnd.plotly.v1+html": [
       "<div id=\"f6281c7f-5390-47ea-b2a1-2fc233913837\" style=\"height: 525px; width: 100%;\" class=\"plotly-graph-div\"></div><script type=\"text/javascript\">require([\"plotly\"], function(Plotly) { window.PLOTLYENV=window.PLOTLYENV || {};window.PLOTLYENV.BASE_URL=\"https://plot.ly\";Plotly.newPlot(\"f6281c7f-5390-47ea-b2a1-2fc233913837\", [{\"mode\": \"lines+markers\", \"name\": \"training accuracy\", \"x\": [0.0, 0.01, 0.02, 0.03, 0.04, 0.05, 0.06, 0.07, 0.08, 0.09, 0.1, 0.3], \"y\": [0.9512938345046076, 0.9444599240824926, 0.9406722346877623, 0.9380926477091978, 0.9360826368889383, 0.9343998622870336, 0.9329294684214202, 0.9316087434884365, 0.9303998852360562, 0.9292783715109901, 0.9282273685001986, 0.9136488850790492], \"type\": \"scatter\", \"uid\": \"4ff0fdf8-4a98-489b-b272-4ab0393bb105\"}, {\"mode\": \"lines+markers\", \"name\": \"test accuracy\", \"x\": [0.0, 0.01, 0.02, 0.03, 0.04, 0.05, 0.06, 0.07, 0.08, 0.09, 0.1, 0.3], \"y\": [0.615222409848537, 0.7022485939212748, 0.733097558816274, 0.7477903146585225, 0.756201801346599, 0.7615599966001556, 0.7652093121516301, 0.7678064266102625, 0.7697098545071885, 0.7711319984583881, 0.7722067936479807, 0.7732413227836928], \"type\": \"scatter\", \"uid\": \"ef414daf-8e8a-4c07-abb0-d7ae7dd1a832\"}], {\"title\": \"Comparasion of different hyper params performance\", \"xaxis\": {\"title\": \"Hyper Params values\"}, \"yaxis\": {\"title\": \"Accuracy\"}}, {\"showLink\": true, \"linkText\": \"Export to plot.ly\", \"plotlyServerURL\": \"https://plot.ly\"})});</script><script type=\"text/javascript\">window.addEventListener(\"resize\", function(){window._Plotly.Plots.resize(document.getElementById(\"f6281c7f-5390-47ea-b2a1-2fc233913837\"));});</script>"
      ]
     },
     "metadata": {},
     "output_type": "display_data"
    }
   ],
   "source": [
    "from sklearn.linear_model import Ridge\n",
    "ridge = Ridge().fit(X_train, y_train)\n",
    "print('training set score', ridge.score(X_train, y_train))\n",
    "print('test set score', ridge.score(X_test, y_test))\n",
    "\n",
    "# plot_accuracy(X_train, X_test, y_train, y_test, lambda param: Ridge(alpha=param), hyper_params=[0.01, 0.1, 0.3, 1.0, 2.0])\n",
    "plot_accuracy_interactive(X_train, X_test, y_train, y_test, lambda param: Ridge(alpha=param), hyper_params=[0.0,0.01, 0.02, 0.03, 0.04, 0.05, 0.06, 0.07, 0.08, 0.09, 0.1, 0.3])\n",
    "\n"
   ]
  },
  {
   "cell_type": "code",
   "execution_count": null,
   "metadata": {},
   "outputs": [],
   "source": [
    "hyper_params={\n",
    "    LinearRgression: 0.0,\n",
    "    Alpah01: 0.1,\n",
    "    Alpha1: 1.0,\n",
    "    Alpha10: 10.0\n",
    "}\n",
    "\n",
    "coefs=[]\n",
    "\n",
    "for (name: param) in hyper_params:\n",
    "    rig = Ridge(alpha=param)\n",
    "    rig.\n",
    "    "
   ]
  }
 ],
 "metadata": {
  "kernelspec": {
   "display_name": "Python 3",
   "language": "python",
   "name": "python3"
  },
  "language_info": {
   "codemirror_mode": {
    "name": "ipython",
    "version": 3
   },
   "file_extension": ".py",
   "mimetype": "text/x-python",
   "name": "python",
   "nbconvert_exporter": "python",
   "pygments_lexer": "ipython3",
   "version": "3.7.0"
  }
 },
 "nbformat": 4,
 "nbformat_minor": 2
}
